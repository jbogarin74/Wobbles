{
  "nbformat": 4,
  "nbformat_minor": 0,
  "metadata": {
    "colab": {
      "name": "DASC_500_Assigment_3",
      "provenance": [],
      "toc_visible": true,
      "authorship_tag": "ABX9TyOEV5jcboIiSsBFOp9xlkpI",
      "include_colab_link": true
    },
    "kernelspec": {
      "name": "python3",
      "display_name": "Python 3"
    }
  },
  "cells": [
    {
      "cell_type": "markdown",
      "metadata": {
        "id": "view-in-github",
        "colab_type": "text"
      },
      "source": [
        "<a href=\"https://colab.research.google.com/github/jbogarin74/Wobbles/blob/master/DASC_500_Assigment_3.ipynb\" target=\"_parent\"><img src=\"https://colab.research.google.com/assets/colab-badge.svg\" alt=\"Open In Colab\"/></a>"
      ]
    },
    {
      "cell_type": "code",
      "metadata": {
        "id": "pX8XWHDXiikj",
        "colab_type": "code",
        "colab": {}
      },
      "source": [
        "import statistics as st\n",
        "import numpy as np\n",
        "import seaborn as sb\n",
        "import matplotlib.pyplot as plt\n",
        "import pandas as pd\n",
        "import scipy as sp"
      ],
      "execution_count": 0,
      "outputs": []
    }
  ]
}