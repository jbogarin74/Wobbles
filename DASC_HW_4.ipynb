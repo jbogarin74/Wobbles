{
  "nbformat": 4,
  "nbformat_minor": 0,
  "metadata": {
    "colab": {
      "name": "DASC_HW_4.ipynb",
      "provenance": [],
      "collapsed_sections": [],
      "toc_visible": true,
      "authorship_tag": "ABX9TyPDqu0gv4b0HjqSXUfgF7RG",
      "include_colab_link": true
    },
    "kernelspec": {
      "name": "python3",
      "display_name": "Python 3"
    }
  },
  "cells": [
    {
      "cell_type": "markdown",
      "metadata": {
        "id": "view-in-github",
        "colab_type": "text"
      },
      "source": [
        "<a href=\"https://colab.research.google.com/github/jbogarin74/Wobbles/blob/master/DASC_HW_4.ipynb\" target=\"_parent\"><img src=\"https://colab.research.google.com/assets/colab-badge.svg\" alt=\"Open In Colab\"/></a>"
      ]
    },
    {
      "cell_type": "code",
      "metadata": {
        "id": "gmAiHvXGEauO",
        "colab_type": "code",
        "colab": {}
      },
      "source": [
        "## DASC 500: Introduction to Data Analytics\n",
        "## Assignment #4\n",
        "## Due 26 February 2020\n",
        "## Jorge Bogarin"
      ],
      "execution_count": 0,
      "outputs": []
    },
    {
      "cell_type": "code",
      "metadata": {
        "id": "dZkIzN1Fg3SA",
        "colab_type": "code",
        "colab": {}
      },
      "source": [
        "## Import packages\n",
        "import random\n",
        "import numpy as np\n",
        "import pandas as pd\n",
        "import seaborn as sb\n",
        "import matplotlib.pyplot as plt \n",
        "import scipy as sp\n",
        "import statsmodels.api as sm \n",
        "import statistics as st"
      ],
      "execution_count": 0,
      "outputs": []
    },
    {
      "cell_type": "code",
      "metadata": {
        "id": "2gLthW3JvtQA",
        "colab_type": "code",
        "colab": {
          "resources": {
            "http://localhost:8080/nbextensions/google.colab/files.js": {
              "data": "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",
              "ok": true,
              "headers": [
                [
                  "content-type",
                  "application/javascript"
                ]
              ],
              "status": 200,
              "status_text": ""
            }
          },
          "base_uri": "https://localhost:8080/",
          "height": 88
        },
        "outputId": "132b05b7-0f0b-4f7e-9ac2-332652b55d6f"
      },
      "source": [
        "## Import of mtcars data set.\n",
        "from google.colab import files\n",
        "\n",
        "uploaded = files.upload()\n",
        "\n",
        "for fn in uploaded.keys():\n",
        "  print('User uploaded file \"{name}\" with length {length} bytes'.format(\n",
        "      name=fn, length=len(uploaded[fn])))"
      ],
      "execution_count": 4,
      "outputs": [
        {
          "output_type": "display_data",
          "data": {
            "text/html": [
              "\n",
              "     <input type=\"file\" id=\"files-8d792d50-3b91-4794-89eb-5f3a90292c67\" name=\"files[]\" multiple disabled />\n",
              "     <output id=\"result-8d792d50-3b91-4794-89eb-5f3a90292c67\">\n",
              "      Upload widget is only available when the cell has been executed in the\n",
              "      current browser session. Please rerun this cell to enable.\n",
              "      </output>\n",
              "      <script src=\"/nbextensions/google.colab/files.js\"></script> "
            ],
            "text/plain": [
              "<IPython.core.display.HTML object>"
            ]
          },
          "metadata": {
            "tags": []
          }
        },
        {
          "output_type": "stream",
          "text": [
            "Saving mtcars.xlsx to mtcars.xlsx\n",
            "User uploaded file \"mtcars.xlsx\" with length 18286 bytes\n"
          ],
          "name": "stdout"
        }
      ]
    },
    {
      "cell_type": "code",
      "metadata": {
        "id": "DbZLdMNvv6lq",
        "colab_type": "code",
        "colab": {}
      },
      "source": [
        "mt = pd.read_excel('mtcars.xlsx')"
      ],
      "execution_count": 0,
      "outputs": []
    },
    {
      "cell_type": "code",
      "metadata": {
        "id": "swas8nvJwkO8",
        "colab_type": "code",
        "colab": {
          "base_uri": "https://localhost:8080/",
          "height": 34
        },
        "outputId": "1f9f4145-3ba5-4035-f2b8-fbe99ed1a24c"
      },
      "source": [
        "mt.shape"
      ],
      "execution_count": 6,
      "outputs": [
        {
          "output_type": "execute_result",
          "data": {
            "text/plain": [
              "(32, 11)"
            ]
          },
          "metadata": {
            "tags": []
          },
          "execution_count": 6
        }
      ]
    },
    {
      "cell_type": "code",
      "metadata": {
        "id": "WcASkQFtw69h",
        "colab_type": "code",
        "colab": {
          "base_uri": "https://localhost:8080/",
          "height": 204
        },
        "outputId": "0be84ea2-b19e-4c5a-d18f-6a52593417cb"
      },
      "source": [
        "mt.head()"
      ],
      "execution_count": 7,
      "outputs": [
        {
          "output_type": "execute_result",
          "data": {
            "text/html": [
              "<div>\n",
              "<style scoped>\n",
              "    .dataframe tbody tr th:only-of-type {\n",
              "        vertical-align: middle;\n",
              "    }\n",
              "\n",
              "    .dataframe tbody tr th {\n",
              "        vertical-align: top;\n",
              "    }\n",
              "\n",
              "    .dataframe thead th {\n",
              "        text-align: right;\n",
              "    }\n",
              "</style>\n",
              "<table border=\"1\" class=\"dataframe\">\n",
              "  <thead>\n",
              "    <tr style=\"text-align: right;\">\n",
              "      <th></th>\n",
              "      <th>mpg</th>\n",
              "      <th>cyl</th>\n",
              "      <th>disp</th>\n",
              "      <th>hp</th>\n",
              "      <th>drat</th>\n",
              "      <th>wt</th>\n",
              "      <th>qsec</th>\n",
              "      <th>vs</th>\n",
              "      <th>am</th>\n",
              "      <th>gear</th>\n",
              "      <th>carb</th>\n",
              "    </tr>\n",
              "  </thead>\n",
              "  <tbody>\n",
              "    <tr>\n",
              "      <th>0</th>\n",
              "      <td>21.0</td>\n",
              "      <td>6</td>\n",
              "      <td>160.0</td>\n",
              "      <td>110</td>\n",
              "      <td>3.90</td>\n",
              "      <td>2.620</td>\n",
              "      <td>16.46</td>\n",
              "      <td>0</td>\n",
              "      <td>1</td>\n",
              "      <td>4</td>\n",
              "      <td>4</td>\n",
              "    </tr>\n",
              "    <tr>\n",
              "      <th>1</th>\n",
              "      <td>21.0</td>\n",
              "      <td>6</td>\n",
              "      <td>160.0</td>\n",
              "      <td>110</td>\n",
              "      <td>3.90</td>\n",
              "      <td>2.875</td>\n",
              "      <td>17.02</td>\n",
              "      <td>0</td>\n",
              "      <td>1</td>\n",
              "      <td>4</td>\n",
              "      <td>4</td>\n",
              "    </tr>\n",
              "    <tr>\n",
              "      <th>2</th>\n",
              "      <td>22.8</td>\n",
              "      <td>4</td>\n",
              "      <td>108.0</td>\n",
              "      <td>93</td>\n",
              "      <td>3.85</td>\n",
              "      <td>2.320</td>\n",
              "      <td>18.61</td>\n",
              "      <td>1</td>\n",
              "      <td>1</td>\n",
              "      <td>4</td>\n",
              "      <td>1</td>\n",
              "    </tr>\n",
              "    <tr>\n",
              "      <th>3</th>\n",
              "      <td>21.4</td>\n",
              "      <td>6</td>\n",
              "      <td>258.0</td>\n",
              "      <td>110</td>\n",
              "      <td>3.08</td>\n",
              "      <td>3.215</td>\n",
              "      <td>19.44</td>\n",
              "      <td>1</td>\n",
              "      <td>0</td>\n",
              "      <td>3</td>\n",
              "      <td>1</td>\n",
              "    </tr>\n",
              "    <tr>\n",
              "      <th>4</th>\n",
              "      <td>18.7</td>\n",
              "      <td>8</td>\n",
              "      <td>360.0</td>\n",
              "      <td>175</td>\n",
              "      <td>3.15</td>\n",
              "      <td>3.440</td>\n",
              "      <td>17.02</td>\n",
              "      <td>0</td>\n",
              "      <td>0</td>\n",
              "      <td>3</td>\n",
              "      <td>2</td>\n",
              "    </tr>\n",
              "  </tbody>\n",
              "</table>\n",
              "</div>"
            ],
            "text/plain": [
              "    mpg  cyl   disp   hp  drat     wt   qsec  vs  am  gear  carb\n",
              "0  21.0    6  160.0  110  3.90  2.620  16.46   0   1     4     4\n",
              "1  21.0    6  160.0  110  3.90  2.875  17.02   0   1     4     4\n",
              "2  22.8    4  108.0   93  3.85  2.320  18.61   1   1     4     1\n",
              "3  21.4    6  258.0  110  3.08  3.215  19.44   1   0     3     1\n",
              "4  18.7    8  360.0  175  3.15  3.440  17.02   0   0     3     2"
            ]
          },
          "metadata": {
            "tags": []
          },
          "execution_count": 7
        }
      ]
    },
    {
      "cell_type": "code",
      "metadata": {
        "id": "A1MGfLSLJj97",
        "colab_type": "code",
        "colab": {}
      },
      "source": [
        "## PROBLEM 1"
      ],
      "execution_count": 0,
      "outputs": []
    },
    {
      "cell_type": "code",
      "metadata": {
        "id": "RTVE6QJrD0g7",
        "colab_type": "code",
        "colab": {}
      },
      "source": [
        "## The code below, partitions the mtcars data using a 70/30 split."
      ],
      "execution_count": 0,
      "outputs": []
    },
    {
      "cell_type": "code",
      "metadata": {
        "id": "c2eMXm4nFDPD",
        "colab_type": "code",
        "colab": {}
      },
      "source": [
        "## In addition, I generate the ramdom sample using sample() and drop() functions."
      ],
      "execution_count": 0,
      "outputs": []
    },
    {
      "cell_type": "code",
      "metadata": {
        "id": "pP8VdLLgxyGS",
        "colab_type": "code",
        "colab": {}
      },
      "source": [
        "train_data = mt.sample(frac = 0.7) \n",
        "test_data = mt.drop(train_data.index)"
      ],
      "execution_count": 0,
      "outputs": []
    },
    {
      "cell_type": "code",
      "metadata": {
        "id": "FLLb1ihqIUOo",
        "colab_type": "code",
        "colab": {}
      },
      "source": [
        "## Set random_state = 42. Setting to 42 ensures reproducibility, so our results are the same for our\n",
        "#  regression models, for easier comparison.\n",
        "random_state = 42"
      ],
      "execution_count": 0,
      "outputs": []
    },
    {
      "cell_type": "code",
      "metadata": {
        "id": "uSs6n9c9Ec9a",
        "colab_type": "code",
        "colab": {}
      },
      "source": [
        "## train_data.shape confirms 70% of data in train_data"
      ],
      "execution_count": 0,
      "outputs": []
    },
    {
      "cell_type": "code",
      "metadata": {
        "id": "JAQrR_t0CdUT",
        "colab_type": "code",
        "colab": {
          "base_uri": "https://localhost:8080/",
          "height": 34
        },
        "outputId": "672aa87d-eae7-4775-bb3f-62dd9dcec201"
      },
      "source": [
        "train_data.shape"
      ],
      "execution_count": 12,
      "outputs": [
        {
          "output_type": "execute_result",
          "data": {
            "text/plain": [
              "(22, 11)"
            ]
          },
          "metadata": {
            "tags": []
          },
          "execution_count": 12
        }
      ]
    },
    {
      "cell_type": "code",
      "metadata": {
        "id": "KuL1pyv_EpJj",
        "colab_type": "code",
        "colab": {}
      },
      "source": [
        "# test_data.shape confirms 30% of data in test_data"
      ],
      "execution_count": 0,
      "outputs": []
    },
    {
      "cell_type": "code",
      "metadata": {
        "id": "DmuJHigFCoRU",
        "colab_type": "code",
        "colab": {
          "base_uri": "https://localhost:8080/",
          "height": 34
        },
        "outputId": "2298d2a2-a3d4-4598-b6c9-0140222e81de"
      },
      "source": [
        "test_data.shape"
      ],
      "execution_count": 13,
      "outputs": [
        {
          "output_type": "execute_result",
          "data": {
            "text/plain": [
              "(10, 11)"
            ]
          },
          "metadata": {
            "tags": []
          },
          "execution_count": 13
        }
      ]
    },
    {
      "cell_type": "code",
      "metadata": {
        "id": "8P6K5OuvGzRg",
        "colab_type": "code",
        "colab": {}
      },
      "source": [
        "y = train_data[\"mpg\"]\n",
        "X1 = train_data[\"cyl\"]"
      ],
      "execution_count": 0,
      "outputs": []
    },
    {
      "cell_type": "code",
      "metadata": {
        "id": "zYmy24eLHNxS",
        "colab_type": "code",
        "colab": {
          "base_uri": "https://localhost:8080/",
          "height": 71
        },
        "outputId": "e48b3a44-35ee-40ce-bd2c-3e5aa5baac0d"
      },
      "source": [
        "X1 = sm.add_constant(X1)"
      ],
      "execution_count": 15,
      "outputs": [
        {
          "output_type": "stream",
          "text": [
            "/usr/local/lib/python3.6/dist-packages/numpy/core/fromnumeric.py:2495: FutureWarning: Method .ptp is deprecated and will be removed in a future version. Use numpy.ptp instead.\n",
            "  return ptp(axis=axis, out=out, **kwargs)\n"
          ],
          "name": "stderr"
        }
      ]
    },
    {
      "cell_type": "code",
      "metadata": {
        "id": "8NBnPWdPHfRN",
        "colab_type": "code",
        "colab": {}
      },
      "source": [
        "model1 = sm.OLS(y, X1)"
      ],
      "execution_count": 0,
      "outputs": []
    },
    {
      "cell_type": "code",
      "metadata": {
        "id": "FMUJAh5gHpvV",
        "colab_type": "code",
        "colab": {}
      },
      "source": [
        "model1_fit = model1.fit()"
      ],
      "execution_count": 0,
      "outputs": []
    },
    {
      "cell_type": "code",
      "metadata": {
        "id": "Yu8gXRwHov3_",
        "colab_type": "code",
        "colab": {
          "base_uri": "https://localhost:8080/",
          "height": 442
        },
        "outputId": "2ca2ad88-5da4-4a4f-9926-494601971536"
      },
      "source": [
        "## PROBLEM 2\n",
        "## To what degree does the cyl variable impact mpg?\n",
        "print(model1_fit.summary())"
      ],
      "execution_count": 25,
      "outputs": [
        {
          "output_type": "stream",
          "text": [
            "                            OLS Regression Results                            \n",
            "==============================================================================\n",
            "Dep. Variable:                    mpg   R-squared:                       0.629\n",
            "Model:                            OLS   Adj. R-squared:                  0.610\n",
            "Method:                 Least Squares   F-statistic:                     33.84\n",
            "Date:                Wed, 26 Feb 2020   Prob (F-statistic):           1.08e-05\n",
            "Time:                        01:39:15   Log-Likelihood:                -57.150\n",
            "No. Observations:                  22   AIC:                             118.3\n",
            "Df Residuals:                      20   BIC:                             120.5\n",
            "Df Model:                           1                                         \n",
            "Covariance Type:            nonrobust                                         \n",
            "==============================================================================\n",
            "                 coef    std err          t      P>|t|      [0.025      0.975]\n",
            "------------------------------------------------------------------------------\n",
            "const         35.7190      2.597     13.752      0.000      30.301      41.137\n",
            "cyl           -2.4931      0.429     -5.817      0.000      -3.387      -1.599\n",
            "==============================================================================\n",
            "Omnibus:                        5.135   Durbin-Watson:                   2.168\n",
            "Prob(Omnibus):                  0.077   Jarque-Bera (JB):                3.550\n",
            "Skew:                           0.974   Prob(JB):                        0.170\n",
            "Kurtosis:                       3.272   Cond. No.                         22.2\n",
            "==============================================================================\n",
            "\n",
            "Warnings:\n",
            "[1] Standard Errors assume that the covariance matrix of the errors is correctly specified.\n"
          ],
          "name": "stdout"
        }
      ]
    },
    {
      "cell_type": "code",
      "metadata": {
        "id": "AdMMdG5_twP7",
        "colab_type": "code",
        "colab": {
          "base_uri": "https://localhost:8080/",
          "height": 496
        },
        "outputId": "cda9d370-7387-4490-bc8e-129300f90df1"
      },
      "source": [
        "## Model 2 with 'disp' variable\n",
        "## To what degree does the disp variable impact mpg?\n",
        "X2 = train_data[\"disp\"]\n",
        "X2 = sm.add_constant(X2)\n",
        "model2 = sm.OLS(y, X2)\n",
        "model2_fit = model2.fit()\n",
        "print(model2_fit.summary())"
      ],
      "execution_count": 26,
      "outputs": [
        {
          "output_type": "stream",
          "text": [
            "                            OLS Regression Results                            \n",
            "==============================================================================\n",
            "Dep. Variable:                    mpg   R-squared:                       0.582\n",
            "Model:                            OLS   Adj. R-squared:                  0.561\n",
            "Method:                 Least Squares   F-statistic:                     27.83\n",
            "Date:                Wed, 26 Feb 2020   Prob (F-statistic):           3.66e-05\n",
            "Time:                        01:39:21   Log-Likelihood:                -58.452\n",
            "No. Observations:                  22   AIC:                             120.9\n",
            "Df Residuals:                      20   BIC:                             123.1\n",
            "Df Model:                           1                                         \n",
            "Covariance Type:            nonrobust                                         \n",
            "==============================================================================\n",
            "                 coef    std err          t      P>|t|      [0.025      0.975]\n",
            "------------------------------------------------------------------------------\n",
            "const         28.6233      1.602     17.864      0.000      25.281      31.966\n",
            "disp          -0.0362      0.007     -5.275      0.000      -0.051      -0.022\n",
            "==============================================================================\n",
            "Omnibus:                        3.252   Durbin-Watson:                   2.054\n",
            "Prob(Omnibus):                  0.197   Jarque-Bera (JB):                2.670\n",
            "Skew:                           0.826   Prob(JB):                        0.263\n",
            "Kurtosis:                       2.572   Cond. No.                         485.\n",
            "==============================================================================\n",
            "\n",
            "Warnings:\n",
            "[1] Standard Errors assume that the covariance matrix of the errors is correctly specified.\n"
          ],
          "name": "stdout"
        },
        {
          "output_type": "stream",
          "text": [
            "/usr/local/lib/python3.6/dist-packages/numpy/core/fromnumeric.py:2495: FutureWarning: Method .ptp is deprecated and will be removed in a future version. Use numpy.ptp instead.\n",
            "  return ptp(axis=axis, out=out, **kwargs)\n"
          ],
          "name": "stderr"
        }
      ]
    },
    {
      "cell_type": "code",
      "metadata": {
        "id": "nSdMn6Ms-jZ1",
        "colab_type": "code",
        "colab": {
          "base_uri": "https://localhost:8080/",
          "height": 496
        },
        "outputId": "0e62fe42-8a0b-4a4d-972b-df0ad3566c6b"
      },
      "source": [
        "## Model 3 with 'hp' variable\n",
        "## To what degree does the hp variable impact mpg?\n",
        "X3 = train_data[\"hp\"]\n",
        "X3 = sm.add_constant(X3)\n",
        "model3 = sm.OLS(y, X3)\n",
        "model3_fit = model3.fit()\n",
        "print(model3_fit.summary())"
      ],
      "execution_count": 27,
      "outputs": [
        {
          "output_type": "stream",
          "text": [
            "                            OLS Regression Results                            \n",
            "==============================================================================\n",
            "Dep. Variable:                    mpg   R-squared:                       0.626\n",
            "Model:                            OLS   Adj. R-squared:                  0.608\n",
            "Method:                 Least Squares   F-statistic:                     33.53\n",
            "Date:                Wed, 26 Feb 2020   Prob (F-statistic):           1.15e-05\n",
            "Time:                        01:39:30   Log-Likelihood:                -57.214\n",
            "No. Observations:                  22   AIC:                             118.4\n",
            "Df Residuals:                      20   BIC:                             120.6\n",
            "Df Model:                           1                                         \n",
            "Covariance Type:            nonrobust                                         \n",
            "==============================================================================\n",
            "                 coef    std err          t      P>|t|      [0.025      0.975]\n",
            "------------------------------------------------------------------------------\n",
            "const         30.6448      1.784     17.173      0.000      26.922      34.367\n",
            "hp            -0.0717      0.012     -5.790      0.000      -0.097      -0.046\n",
            "==============================================================================\n",
            "Omnibus:                        2.945   Durbin-Watson:                   1.274\n",
            "Prob(Omnibus):                  0.229   Jarque-Bera (JB):                1.870\n",
            "Skew:                           0.713   Prob(JB):                        0.393\n",
            "Kurtosis:                       3.072   Cond. No.                         353.\n",
            "==============================================================================\n",
            "\n",
            "Warnings:\n",
            "[1] Standard Errors assume that the covariance matrix of the errors is correctly specified.\n"
          ],
          "name": "stdout"
        },
        {
          "output_type": "stream",
          "text": [
            "/usr/local/lib/python3.6/dist-packages/numpy/core/fromnumeric.py:2495: FutureWarning: Method .ptp is deprecated and will be removed in a future version. Use numpy.ptp instead.\n",
            "  return ptp(axis=axis, out=out, **kwargs)\n"
          ],
          "name": "stderr"
        }
      ]
    },
    {
      "cell_type": "code",
      "metadata": {
        "id": "11EOcBTi-yx1",
        "colab_type": "code",
        "colab": {
          "base_uri": "https://localhost:8080/",
          "height": 496
        },
        "outputId": "2c2622a7-a787-4cbd-e074-849a47c1c617"
      },
      "source": [
        "## Model 4 with 'drat' variable\n",
        "## To what degree does the drat variable impact mpg?\n",
        "X4 = train_data[\"drat\"]\n",
        "X4 = sm.add_constant(X4)\n",
        "model4 = sm.OLS(y, X4)\n",
        "model4_fit = model4.fit()\n",
        "print(model4_fit.summary())"
      ],
      "execution_count": 28,
      "outputs": [
        {
          "output_type": "stream",
          "text": [
            "                            OLS Regression Results                            \n",
            "==============================================================================\n",
            "Dep. Variable:                    mpg   R-squared:                       0.450\n",
            "Model:                            OLS   Adj. R-squared:                  0.423\n",
            "Method:                 Least Squares   F-statistic:                     16.38\n",
            "Date:                Wed, 26 Feb 2020   Prob (F-statistic):           0.000630\n",
            "Time:                        01:39:39   Log-Likelihood:                -61.462\n",
            "No. Observations:                  22   AIC:                             126.9\n",
            "Df Residuals:                      20   BIC:                             129.1\n",
            "Df Model:                           1                                         \n",
            "Covariance Type:            nonrobust                                         \n",
            "==============================================================================\n",
            "                 coef    std err          t      P>|t|      [0.025      0.975]\n",
            "------------------------------------------------------------------------------\n",
            "const         -4.6389      6.449     -0.719      0.480     -18.091       8.813\n",
            "drat           6.9310      1.713      4.047      0.001       3.359      10.503\n",
            "==============================================================================\n",
            "Omnibus:                        3.222   Durbin-Watson:                   2.794\n",
            "Prob(Omnibus):                  0.200   Jarque-Bera (JB):                1.506\n",
            "Skew:                           0.488   Prob(JB):                        0.471\n",
            "Kurtosis:                       3.832   Cond. No.                         29.4\n",
            "==============================================================================\n",
            "\n",
            "Warnings:\n",
            "[1] Standard Errors assume that the covariance matrix of the errors is correctly specified.\n"
          ],
          "name": "stdout"
        },
        {
          "output_type": "stream",
          "text": [
            "/usr/local/lib/python3.6/dist-packages/numpy/core/fromnumeric.py:2495: FutureWarning: Method .ptp is deprecated and will be removed in a future version. Use numpy.ptp instead.\n",
            "  return ptp(axis=axis, out=out, **kwargs)\n"
          ],
          "name": "stderr"
        }
      ]
    },
    {
      "cell_type": "code",
      "metadata": {
        "id": "0xrht9iS_HEZ",
        "colab_type": "code",
        "colab": {
          "base_uri": "https://localhost:8080/",
          "height": 496
        },
        "outputId": "d3c17a67-1dbd-4d57-84b2-aa979c80ce35"
      },
      "source": [
        "## Model 5 with 'wt' variable\n",
        "## To what degree does the wt variable impact mpg?\n",
        "X5 = train_data[\"wt\"]\n",
        "X5 = sm.add_constant(X5)\n",
        "model5 = sm.OLS(y, X5)\n",
        "model5_fit = model5.fit()\n",
        "print(model5_fit.summary())"
      ],
      "execution_count": 29,
      "outputs": [
        {
          "output_type": "stream",
          "text": [
            "                            OLS Regression Results                            \n",
            "==============================================================================\n",
            "Dep. Variable:                    mpg   R-squared:                       0.627\n",
            "Model:                            OLS   Adj. R-squared:                  0.609\n",
            "Method:                 Least Squares   F-statistic:                     33.69\n",
            "Date:                Wed, 26 Feb 2020   Prob (F-statistic):           1.12e-05\n",
            "Time:                        01:39:48   Log-Likelihood:                -57.181\n",
            "No. Observations:                  22   AIC:                             118.4\n",
            "Df Residuals:                      20   BIC:                             120.5\n",
            "Df Model:                           1                                         \n",
            "Covariance Type:            nonrobust                                         \n",
            "==============================================================================\n",
            "                 coef    std err          t      P>|t|      [0.025      0.975]\n",
            "------------------------------------------------------------------------------\n",
            "const         37.1827      2.846     13.065      0.000      31.246      43.119\n",
            "wt            -5.2299      0.901     -5.804      0.000      -7.110      -3.350\n",
            "==============================================================================\n",
            "Omnibus:                        1.951   Durbin-Watson:                   2.831\n",
            "Prob(Omnibus):                  0.377   Jarque-Bera (JB):                1.649\n",
            "Skew:                           0.619   Prob(JB):                        0.438\n",
            "Kurtosis:                       2.482   Cond. No.                         13.5\n",
            "==============================================================================\n",
            "\n",
            "Warnings:\n",
            "[1] Standard Errors assume that the covariance matrix of the errors is correctly specified.\n"
          ],
          "name": "stdout"
        },
        {
          "output_type": "stream",
          "text": [
            "/usr/local/lib/python3.6/dist-packages/numpy/core/fromnumeric.py:2495: FutureWarning: Method .ptp is deprecated and will be removed in a future version. Use numpy.ptp instead.\n",
            "  return ptp(axis=axis, out=out, **kwargs)\n"
          ],
          "name": "stderr"
        }
      ]
    },
    {
      "cell_type": "code",
      "metadata": {
        "id": "1F4Acrrn_YMd",
        "colab_type": "code",
        "colab": {
          "base_uri": "https://localhost:8080/",
          "height": 496
        },
        "outputId": "a354f93d-1161-4d6a-f698-5a8095a55d43"
      },
      "source": [
        "## Model 6 with 'qsec' variable\n",
        "## To what degree does the qsec variable impact mpg?\n",
        "X6 = train_data[\"qsec\"]\n",
        "X6 = sm.add_constant(X6)\n",
        "model6 = sm.OLS(y, X6)\n",
        "model6_fit = model6.fit()\n",
        "print(model6_fit.summary())"
      ],
      "execution_count": 30,
      "outputs": [
        {
          "output_type": "stream",
          "text": [
            "                            OLS Regression Results                            \n",
            "==============================================================================\n",
            "Dep. Variable:                    mpg   R-squared:                       0.202\n",
            "Model:                            OLS   Adj. R-squared:                  0.162\n",
            "Method:                 Least Squares   F-statistic:                     5.051\n",
            "Date:                Wed, 26 Feb 2020   Prob (F-statistic):             0.0360\n",
            "Time:                        01:39:57   Log-Likelihood:                -65.566\n",
            "No. Observations:                  22   AIC:                             135.1\n",
            "Df Residuals:                      20   BIC:                             137.3\n",
            "Df Model:                           1                                         \n",
            "Covariance Type:            nonrobust                                         \n",
            "==============================================================================\n",
            "                 coef    std err          t      P>|t|      [0.025      0.975]\n",
            "------------------------------------------------------------------------------\n",
            "const         -2.1101     10.432     -0.202      0.842     -23.871      19.651\n",
            "qsec           1.2904      0.574      2.247      0.036       0.093       2.488\n",
            "==============================================================================\n",
            "Omnibus:                        3.424   Durbin-Watson:                   2.123\n",
            "Prob(Omnibus):                  0.181   Jarque-Bera (JB):                2.692\n",
            "Skew:                           0.845   Prob(JB):                        0.260\n",
            "Kurtosis:                       2.717   Cond. No.                         178.\n",
            "==============================================================================\n",
            "\n",
            "Warnings:\n",
            "[1] Standard Errors assume that the covariance matrix of the errors is correctly specified.\n"
          ],
          "name": "stdout"
        },
        {
          "output_type": "stream",
          "text": [
            "/usr/local/lib/python3.6/dist-packages/numpy/core/fromnumeric.py:2495: FutureWarning: Method .ptp is deprecated and will be removed in a future version. Use numpy.ptp instead.\n",
            "  return ptp(axis=axis, out=out, **kwargs)\n"
          ],
          "name": "stderr"
        }
      ]
    },
    {
      "cell_type": "code",
      "metadata": {
        "id": "flOi2ctJ_t27",
        "colab_type": "code",
        "colab": {
          "base_uri": "https://localhost:8080/",
          "height": 496
        },
        "outputId": "19c13003-9ee4-442d-a159-6e465cf8a7eb"
      },
      "source": [
        "## Model 7 with 'vs' variable\n",
        "## To what degree does the vs variable impact mpg?\n",
        "X7 = train_data[\"vs\"]\n",
        "X7 = sm.add_constant(X7)\n",
        "model7 = sm.OLS(y, X7)\n",
        "model7_fit = model7.fit()\n",
        "print(model7_fit.summary())"
      ],
      "execution_count": 31,
      "outputs": [
        {
          "output_type": "stream",
          "text": [
            "                            OLS Regression Results                            \n",
            "==============================================================================\n",
            "Dep. Variable:                    mpg   R-squared:                       0.286\n",
            "Model:                            OLS   Adj. R-squared:                  0.250\n",
            "Method:                 Least Squares   F-statistic:                     7.995\n",
            "Date:                Wed, 26 Feb 2020   Prob (F-statistic):             0.0104\n",
            "Time:                        01:40:09   Log-Likelihood:                -64.344\n",
            "No. Observations:                  22   AIC:                             132.7\n",
            "Df Residuals:                      20   BIC:                             134.9\n",
            "Df Model:                           1                                         \n",
            "Covariance Type:            nonrobust                                         \n",
            "==============================================================================\n",
            "                 coef    std err          t      P>|t|      [0.025      0.975]\n",
            "------------------------------------------------------------------------------\n",
            "const         18.3636      1.425     12.883      0.000      15.390      21.337\n",
            "vs             5.7000      2.016      2.828      0.010       1.495       9.905\n",
            "==============================================================================\n",
            "Omnibus:                        2.651   Durbin-Watson:                   1.951\n",
            "Prob(Omnibus):                  0.266   Jarque-Bera (JB):                2.159\n",
            "Skew:                           0.737   Prob(JB):                        0.340\n",
            "Kurtosis:                       2.574   Cond. No.                         2.62\n",
            "==============================================================================\n",
            "\n",
            "Warnings:\n",
            "[1] Standard Errors assume that the covariance matrix of the errors is correctly specified.\n"
          ],
          "name": "stdout"
        },
        {
          "output_type": "stream",
          "text": [
            "/usr/local/lib/python3.6/dist-packages/numpy/core/fromnumeric.py:2495: FutureWarning: Method .ptp is deprecated and will be removed in a future version. Use numpy.ptp instead.\n",
            "  return ptp(axis=axis, out=out, **kwargs)\n"
          ],
          "name": "stderr"
        }
      ]
    },
    {
      "cell_type": "code",
      "metadata": {
        "id": "K11uvcfbAAN-",
        "colab_type": "code",
        "colab": {
          "base_uri": "https://localhost:8080/",
          "height": 496
        },
        "outputId": "d97654fa-80db-4f8d-8eca-cea9aebff444"
      },
      "source": [
        "## Model 8 with 'am' variable\n",
        "## To what degree does the am variable impact mpg?\n",
        "X8 = train_data[\"am\"]\n",
        "X8 = sm.add_constant(X8)\n",
        "model8 = sm.OLS(y, X8)\n",
        "model8_fit = model8.fit()\n",
        "print(model8_fit.summary())"
      ],
      "execution_count": 32,
      "outputs": [
        {
          "output_type": "stream",
          "text": [
            "                            OLS Regression Results                            \n",
            "==============================================================================\n",
            "Dep. Variable:                    mpg   R-squared:                       0.305\n",
            "Model:                            OLS   Adj. R-squared:                  0.270\n",
            "Method:                 Least Squares   F-statistic:                     8.777\n",
            "Date:                Wed, 26 Feb 2020   Prob (F-statistic):            0.00770\n",
            "Time:                        01:40:21   Log-Likelihood:                -64.041\n",
            "No. Observations:                  22   AIC:                             132.1\n",
            "Df Residuals:                      20   BIC:                             134.3\n",
            "Df Model:                           1                                         \n",
            "Covariance Type:            nonrobust                                         \n",
            "==============================================================================\n",
            "                 coef    std err          t      P>|t|      [0.025      0.975]\n",
            "------------------------------------------------------------------------------\n",
            "const         18.5250      1.346     13.762      0.000      15.717      21.333\n",
            "am             5.9150      1.997      2.963      0.008       1.750      10.080\n",
            "==============================================================================\n",
            "Omnibus:                        0.964   Durbin-Watson:                   3.064\n",
            "Prob(Omnibus):                  0.618   Jarque-Bera (JB):                0.853\n",
            "Skew:                           0.430   Prob(JB):                        0.653\n",
            "Kurtosis:                       2.562   Cond. No.                         2.53\n",
            "==============================================================================\n",
            "\n",
            "Warnings:\n",
            "[1] Standard Errors assume that the covariance matrix of the errors is correctly specified.\n"
          ],
          "name": "stdout"
        },
        {
          "output_type": "stream",
          "text": [
            "/usr/local/lib/python3.6/dist-packages/numpy/core/fromnumeric.py:2495: FutureWarning: Method .ptp is deprecated and will be removed in a future version. Use numpy.ptp instead.\n",
            "  return ptp(axis=axis, out=out, **kwargs)\n"
          ],
          "name": "stderr"
        }
      ]
    },
    {
      "cell_type": "code",
      "metadata": {
        "id": "_ggHeNa2AOyB",
        "colab_type": "code",
        "colab": {
          "base_uri": "https://localhost:8080/",
          "height": 496
        },
        "outputId": "4a32c9cf-1683-426d-e3e7-44712212ce53"
      },
      "source": [
        "## Model 9 with 'gear' variable\n",
        "## To what degree does the gear variable impact mpg?\n",
        "X9 = train_data[\"gear\"]\n",
        "X9 = sm.add_constant(X9)\n",
        "model9 = sm.OLS(y, X9)\n",
        "model9_fit = model9.fit()\n",
        "print(model9_fit.summary())"
      ],
      "execution_count": 33,
      "outputs": [
        {
          "output_type": "stream",
          "text": [
            "                            OLS Regression Results                            \n",
            "==============================================================================\n",
            "Dep. Variable:                    mpg   R-squared:                       0.141\n",
            "Model:                            OLS   Adj. R-squared:                  0.098\n",
            "Method:                 Least Squares   F-statistic:                     3.275\n",
            "Date:                Wed, 26 Feb 2020   Prob (F-statistic):             0.0854\n",
            "Time:                        01:40:28   Log-Likelihood:                -66.375\n",
            "No. Observations:                  22   AIC:                             136.7\n",
            "Df Residuals:                      20   BIC:                             138.9\n",
            "Df Model:                           1                                         \n",
            "Covariance Type:            nonrobust                                         \n",
            "==============================================================================\n",
            "                 coef    std err          t      P>|t|      [0.025      0.975]\n",
            "------------------------------------------------------------------------------\n",
            "const          9.9424      6.326      1.572      0.132      -3.253      23.138\n",
            "gear           2.9876      1.651      1.810      0.085      -0.456       6.431\n",
            "==============================================================================\n",
            "Omnibus:                        5.048   Durbin-Watson:                   2.980\n",
            "Prob(Omnibus):                  0.080   Jarque-Bera (JB):                3.126\n",
            "Skew:                           0.875   Prob(JB):                        0.209\n",
            "Kurtosis:                       3.588   Cond. No.                         23.4\n",
            "==============================================================================\n",
            "\n",
            "Warnings:\n",
            "[1] Standard Errors assume that the covariance matrix of the errors is correctly specified.\n"
          ],
          "name": "stdout"
        },
        {
          "output_type": "stream",
          "text": [
            "/usr/local/lib/python3.6/dist-packages/numpy/core/fromnumeric.py:2495: FutureWarning: Method .ptp is deprecated and will be removed in a future version. Use numpy.ptp instead.\n",
            "  return ptp(axis=axis, out=out, **kwargs)\n"
          ],
          "name": "stderr"
        }
      ]
    },
    {
      "cell_type": "code",
      "metadata": {
        "id": "3UMk2bozAe6p",
        "colab_type": "code",
        "colab": {
          "base_uri": "https://localhost:8080/",
          "height": 496
        },
        "outputId": "fe0d97e5-1807-4059-eca3-fbef957490b9"
      },
      "source": [
        "## Model 10 with 'carb' variable\n",
        "## To what degree does the carb variable impact mpg?\n",
        "X10 = train_data[\"carb\"]\n",
        "X10 = sm.add_constant(X10)\n",
        "model10 = sm.OLS(y, X10)\n",
        "model10_fit = model10.fit()\n",
        "print(model10_fit.summary())"
      ],
      "execution_count": 34,
      "outputs": [
        {
          "output_type": "stream",
          "text": [
            "                            OLS Regression Results                            \n",
            "==============================================================================\n",
            "Dep. Variable:                    mpg   R-squared:                       0.267\n",
            "Model:                            OLS   Adj. R-squared:                  0.231\n",
            "Method:                 Least Squares   F-statistic:                     7.294\n",
            "Date:                Wed, 26 Feb 2020   Prob (F-statistic):             0.0138\n",
            "Time:                        01:40:37   Log-Likelihood:                -64.623\n",
            "No. Observations:                  22   AIC:                             133.2\n",
            "Df Residuals:                      20   BIC:                             135.4\n",
            "Df Model:                           1                                         \n",
            "Covariance Type:            nonrobust                                         \n",
            "==============================================================================\n",
            "                 coef    std err          t      P>|t|      [0.025      0.975]\n",
            "------------------------------------------------------------------------------\n",
            "const         26.5319      2.218     11.962      0.000      21.905      31.159\n",
            "carb          -2.0173      0.747     -2.701      0.014      -3.575      -0.459\n",
            "==============================================================================\n",
            "Omnibus:                        1.495   Durbin-Watson:                   1.980\n",
            "Prob(Omnibus):                  0.474   Jarque-Bera (JB):                1.328\n",
            "Skew:                           0.502   Prob(JB):                        0.515\n",
            "Kurtosis:                       2.336   Cond. No.                         7.04\n",
            "==============================================================================\n",
            "\n",
            "Warnings:\n",
            "[1] Standard Errors assume that the covariance matrix of the errors is correctly specified.\n"
          ],
          "name": "stdout"
        },
        {
          "output_type": "stream",
          "text": [
            "/usr/local/lib/python3.6/dist-packages/numpy/core/fromnumeric.py:2495: FutureWarning: Method .ptp is deprecated and will be removed in a future version. Use numpy.ptp instead.\n",
            "  return ptp(axis=axis, out=out, **kwargs)\n"
          ],
          "name": "stderr"
        }
      ]
    },
    {
      "cell_type": "code",
      "metadata": {
        "id": "TQ4JP7CJHCsv",
        "colab_type": "code",
        "colab": {}
      },
      "source": [
        "## PROBLEM 3\n",
        "# I would chose the \"drat\" predictor. "
      ],
      "execution_count": 0,
      "outputs": []
    },
    {
      "cell_type": "code",
      "metadata": {
        "id": "qv7HTDyvJDS2",
        "colab_type": "code",
        "colab": {}
      },
      "source": [
        "## PROBLEM 4\n",
        "# In choosing Model 4, the \"drat\" variable had the greatest positive coef with 6.93 compared \n",
        "# to all other variables. \n",
        "# This means that the \"drat\" variable had the highest positive impact on const mpg. \n",
        "# The R-squared is 0.45 meaning the variance of adding \"drat\" is a good predictor for changes in mpg.\n",
        "# For every change in \"drat\", the mpg is increasing by 6.93. \n",
        "# The std err is 1.71 meaning is has some effect. \n",
        "# The 0.001 P value means there is a almost a 0% chance that the const for drat is zero."
      ],
      "execution_count": 0,
      "outputs": []
    },
    {
      "cell_type": "code",
      "metadata": {
        "id": "xnxj0b7wBk6f",
        "colab_type": "code",
        "colab": {}
      },
      "source": [
        "## PROBLEM 5: Single model with all 10 predictors."
      ],
      "execution_count": 0,
      "outputs": []
    },
    {
      "cell_type": "code",
      "metadata": {
        "id": "xM8_l9SXBsOH",
        "colab_type": "code",
        "colab": {
          "base_uri": "https://localhost:8080/",
          "height": 683
        },
        "outputId": "884e1b2e-817b-4ce0-82c6-a0dfceedc943"
      },
      "source": [
        "## Model 11 with all ten variables\n",
        "X11 = train_data[{\"cyl\",\"disp\",\"hp\",\"drat\",\"wt\",\"qsec\",\"vs\",\"am\",\"gear\",\"carb\"}]\n",
        "X11 = sm.add_constant(X11)\n",
        "model11 = sm.OLS(y, X11)\n",
        "model11_fit = model11.fit()\n",
        "print(model11_fit.summary())"
      ],
      "execution_count": 35,
      "outputs": [
        {
          "output_type": "stream",
          "text": [
            "                            OLS Regression Results                            \n",
            "==============================================================================\n",
            "Dep. Variable:                    mpg   R-squared:                       0.825\n",
            "Model:                            OLS   Adj. R-squared:                  0.666\n",
            "Method:                 Least Squares   F-statistic:                     5.191\n",
            "Date:                Wed, 26 Feb 2020   Prob (F-statistic):            0.00593\n",
            "Time:                        01:40:53   Log-Likelihood:                -48.860\n",
            "No. Observations:                  22   AIC:                             119.7\n",
            "Df Residuals:                      11   BIC:                             131.7\n",
            "Df Model:                          10                                         \n",
            "Covariance Type:            nonrobust                                         \n",
            "==============================================================================\n",
            "                 coef    std err          t      P>|t|      [0.025      0.975]\n",
            "------------------------------------------------------------------------------\n",
            "const          4.3379     25.957      0.167      0.870     -52.793      61.469\n",
            "qsec           0.9950      1.036      0.961      0.357      -1.284       3.274\n",
            "drat           2.1825      2.759      0.791      0.446      -3.889       8.254\n",
            "hp            -0.0462      0.036     -1.294      0.222      -0.125       0.032\n",
            "disp           0.0228      0.031      0.725      0.483      -0.046       0.092\n",
            "cyl           -0.1483      1.496     -0.099      0.923      -3.441       3.144\n",
            "carb          -0.0720      1.229     -0.059      0.954      -2.776       2.632\n",
            "vs            -0.6462      3.021     -0.214      0.835      -7.295       6.003\n",
            "am             3.7136      2.942      1.262      0.233      -2.762      10.189\n",
            "gear          -0.1837      2.056     -0.089      0.930      -4.709       4.341\n",
            "wt            -2.4397      2.621     -0.931      0.372      -8.209       3.329\n",
            "==============================================================================\n",
            "Omnibus:                        1.492   Durbin-Watson:                   2.008\n",
            "Prob(Omnibus):                  0.474   Jarque-Bera (JB):                1.295\n",
            "Skew:                           0.535   Prob(JB):                        0.523\n",
            "Kurtosis:                       2.480   Cond. No.                     1.06e+04\n",
            "==============================================================================\n",
            "\n",
            "Warnings:\n",
            "[1] Standard Errors assume that the covariance matrix of the errors is correctly specified.\n",
            "[2] The condition number is large, 1.06e+04. This might indicate that there are\n",
            "strong multicollinearity or other numerical problems.\n"
          ],
          "name": "stdout"
        },
        {
          "output_type": "stream",
          "text": [
            "/usr/local/lib/python3.6/dist-packages/numpy/core/fromnumeric.py:2495: FutureWarning: Method .ptp is deprecated and will be removed in a future version. Use numpy.ptp instead.\n",
            "  return ptp(axis=axis, out=out, **kwargs)\n"
          ],
          "name": "stderr"
        }
      ]
    },
    {
      "cell_type": "code",
      "metadata": {
        "id": "EeGNUKoqEY9G",
        "colab_type": "code",
        "colab": {}
      },
      "source": [
        "## PROBLEM 6\n",
        "# The results in Problem #1 do not align with the results in Problem #5. It's possible that they do not\n",
        "# align because of the variations in the random sample or the models differ in comparing variables \n",
        "# one-by-one versus all-at-once."
      ],
      "execution_count": 0,
      "outputs": []
    }
  ]
}