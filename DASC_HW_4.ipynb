{
  "nbformat": 4,
  "nbformat_minor": 0,
  "metadata": {
    "colab": {
      "name": "DASC_HW_4.ipynb",
      "provenance": [],
      "toc_visible": true,
      "authorship_tag": "ABX9TyN9SPnmqjSyAoB+9oBul70m",
      "include_colab_link": true
    },
    "kernelspec": {
      "name": "python3",
      "display_name": "Python 3"
    }
  },
  "cells": [
    {
      "cell_type": "markdown",
      "metadata": {
        "id": "view-in-github",
        "colab_type": "text"
      },
      "source": [
        "<a href=\"https://colab.research.google.com/github/jbogarin74/Wobbles/blob/master/DASC_HW_4.ipynb\" target=\"_parent\"><img src=\"https://colab.research.google.com/assets/colab-badge.svg\" alt=\"Open In Colab\"/></a>"
      ]
    },
    {
      "cell_type": "code",
      "metadata": {
        "id": "dZkIzN1Fg3SA",
        "colab_type": "code",
        "colab": {}
      },
      "source": [
        "import random\n",
        "import numpy as np\n",
        "import pandas as pd\n",
        "import seaborn as sb\n",
        "import matplotlib.pyplot as plt \n",
        "import scipy as sp\n",
        "import statsmodels.api as sm \n",
        "import statistics as st"
      ],
      "execution_count": 0,
      "outputs": []
    },
    {
      "cell_type": "code",
      "metadata": {
        "id": "FLLb1ihqIUOo",
        "colab_type": "code",
        "colab": {}
      },
      "source": [
        "random_state = 42"
      ],
      "execution_count": 0,
      "outputs": []
    },
    {
      "cell_type": "code",
      "metadata": {
        "id": "2gLthW3JvtQA",
        "colab_type": "code",
        "colab": {
          "resources": {
            "http://localhost:8080/nbextensions/google.colab/files.js": {
              "data": "Ly8gQ29weXJpZ2h0IDIwMTcgR29vZ2xlIExMQwovLwovLyBMaWNlbnNlZCB1bmRlciB0aGUgQXBhY2hlIExpY2Vuc2UsIFZlcnNpb24gMi4wICh0aGUgIkxpY2Vuc2UiKTsKLy8geW91IG1heSBub3QgdXNlIHRoaXMgZmlsZSBleGNlcHQgaW4gY29tcGxpYW5jZSB3aXRoIHRoZSBMaWNlbnNlLgovLyBZb3UgbWF5IG9idGFpbiBhIGNvcHkgb2YgdGhlIExpY2Vuc2UgYXQKLy8KLy8gICAgICBodHRwOi8vd3d3LmFwYWNoZS5vcmcvbGljZW5zZXMvTElDRU5TRS0yLjAKLy8KLy8gVW5sZXNzIHJlcXVpcmVkIGJ5IGFwcGxpY2FibGUgbGF3IG9yIGFncmVlZCB0byBpbiB3cml0aW5nLCBzb2Z0d2FyZQovLyBkaXN0cmlidXRlZCB1bmRlciB0aGUgTGljZW5zZSBpcyBkaXN0cmlidXRlZCBvbiBhbiAiQVMgSVMiIEJBU0lTLAovLyBXSVRIT1VUIFdBUlJBTlRJRVMgT1IgQ09ORElUSU9OUyBPRiBBTlkgS0lORCwgZWl0aGVyIGV4cHJlc3Mgb3IgaW1wbGllZC4KLy8gU2VlIHRoZSBMaWNlbnNlIGZvciB0aGUgc3BlY2lmaWMgbGFuZ3VhZ2UgZ292ZXJuaW5nIHBlcm1pc3Npb25zIGFuZAovLyBsaW1pdGF0aW9ucyB1bmRlciB0aGUgTGljZW5zZS4KCi8qKgogKiBAZmlsZW92ZXJ2aWV3IEhlbHBlcnMgZm9yIGdvb2dsZS5jb2xhYiBQeXRob24gbW9kdWxlLgogKi8KKGZ1bmN0aW9uKHNjb3BlKSB7CmZ1bmN0aW9uIHNwYW4odGV4dCwgc3R5bGVBdHRyaWJ1dGVzID0ge30pIHsKICBjb25zdCBlbGVtZW50ID0gZG9jdW1lbnQuY3JlYXRlRWxlbWVudCgnc3BhbicpOwogIGVsZW1lbnQudGV4dENvbnRlbnQgPSB0ZXh0OwogIGZvciAoY29uc3Qga2V5IG9mIE9iamVjdC5rZXlzKHN0eWxlQXR0cmlidXRlcykpIHsKICAgIGVsZW1lbnQuc3R5bGVba2V5XSA9IHN0eWxlQXR0cmlidXRlc1trZXldOwogIH0KICByZXR1cm4gZWxlbWVudDsKfQoKLy8gTWF4IG51bWJlciBvZiBieXRlcyB3aGljaCB3aWxsIGJlIHVwbG9hZGVkIGF0IGEgdGltZS4KY29uc3QgTUFYX1BBWUxPQURfU0laRSA9IDEwMCAqIDEwMjQ7Ci8vIE1heCBhbW91bnQgb2YgdGltZSB0byBibG9jayB3YWl0aW5nIGZvciB0aGUgdXNlci4KY29uc3QgRklMRV9DSEFOR0VfVElNRU9VVF9NUyA9IDMwICogMTAwMDsKCmZ1bmN0aW9uIF91cGxvYWRGaWxlcyhpbnB1dElkLCBvdXRwdXRJZCkgewogIGNvbnN0IHN0ZXBzID0gdXBsb2FkRmlsZXNTdGVwKGlucHV0SWQsIG91dHB1dElkKTsKICBjb25zdCBvdXRwdXRFbGVtZW50ID0gZG9jdW1lbnQuZ2V0RWxlbWVudEJ5SWQob3V0cHV0SWQpOwogIC8vIENhY2hlIHN0ZXBzIG9uIHRoZSBvdXRwdXRFbGVtZW50IHRvIG1ha2UgaXQgYXZhaWxhYmxlIGZvciB0aGUgbmV4dCBjYWxsCiAgLy8gdG8gdXBsb2FkRmlsZXNDb250aW51ZSBmcm9tIFB5dGhvbi4KICBvdXRwdXRFbGVtZW50LnN0ZXBzID0gc3RlcHM7CgogIHJldHVybiBfdXBsb2FkRmlsZXNDb250aW51ZShvdXRwdXRJZCk7Cn0KCi8vIFRoaXMgaXMgcm91Z2hseSBhbiBhc3luYyBnZW5lcmF0b3IgKG5vdCBzdXBwb3J0ZWQgaW4gdGhlIGJyb3dzZXIgeWV0KSwKLy8gd2hlcmUgdGhlcmUgYXJlIG11bHRpcGxlIGFzeW5jaHJvbm91cyBzdGVwcyBhbmQgdGhlIFB5dGhvbiBzaWRlIGlzIGdvaW5nCi8vIHRvIHBvbGwgZm9yIGNvbXBsZXRpb24gb2YgZWFjaCBzdGVwLgovLyBUaGlzIHVzZXMgYSBQcm9taXNlIHRvIGJsb2NrIHRoZSBweXRob24gc2lkZSBvbiBjb21wbGV0aW9uIG9mIGVhY2ggc3RlcCwKLy8gdGhlbiBwYXNzZXMgdGhlIHJlc3VsdCBvZiB0aGUgcHJldmlvdXMgc3RlcCBhcyB0aGUgaW5wdXQgdG8gdGhlIG5leHQgc3RlcC4KZnVuY3Rpb24gX3VwbG9hZEZpbGVzQ29udGludWUob3V0cHV0SWQpIHsKICBjb25zdCBvdXRwdXRFbGVtZW50ID0gZG9jdW1lbnQuZ2V0RWxlbWVudEJ5SWQob3V0cHV0SWQpOwogIGNvbnN0IHN0ZXBzID0gb3V0cHV0RWxlbWVudC5zdGVwczsKCiAgY29uc3QgbmV4dCA9IHN0ZXBzLm5leHQob3V0cHV0RWxlbWVudC5sYXN0UHJvbWlzZVZhbHVlKTsKICByZXR1cm4gUHJvbWlzZS5yZXNvbHZlKG5leHQudmFsdWUucHJvbWlzZSkudGhlbigodmFsdWUpID0+IHsKICAgIC8vIENhY2hlIHRoZSBsYXN0IHByb21pc2UgdmFsdWUgdG8gbWFrZSBpdCBhdmFpbGFibGUgdG8gdGhlIG5leHQKICAgIC8vIHN0ZXAgb2YgdGhlIGdlbmVyYXRvci4KICAgIG91dHB1dEVsZW1lbnQubGFzdFByb21pc2VWYWx1ZSA9IHZhbHVlOwogICAgcmV0dXJuIG5leHQudmFsdWUucmVzcG9uc2U7CiAgfSk7Cn0KCi8qKgogKiBHZW5lcmF0b3IgZnVuY3Rpb24gd2hpY2ggaXMgY2FsbGVkIGJldHdlZW4gZWFjaCBhc3luYyBzdGVwIG9mIHRoZSB1cGxvYWQKICogcHJvY2Vzcy4KICogQHBhcmFtIHtzdHJpbmd9IGlucHV0SWQgRWxlbWVudCBJRCBvZiB0aGUgaW5wdXQgZmlsZSBwaWNrZXIgZWxlbWVudC4KICogQHBhcmFtIHtzdHJpbmd9IG91dHB1dElkIEVsZW1lbnQgSUQgb2YgdGhlIG91dHB1dCBkaXNwbGF5LgogKiBAcmV0dXJuIHshSXRlcmFibGU8IU9iamVjdD59IEl0ZXJhYmxlIG9mIG5leHQgc3RlcHMuCiAqLwpmdW5jdGlvbiogdXBsb2FkRmlsZXNTdGVwKGlucHV0SWQsIG91dHB1dElkKSB7CiAgY29uc3QgaW5wdXRFbGVtZW50ID0gZG9jdW1lbnQuZ2V0RWxlbWVudEJ5SWQoaW5wdXRJZCk7CiAgaW5wdXRFbGVtZW50LmRpc2FibGVkID0gZmFsc2U7CgogIGNvbnN0IG91dHB1dEVsZW1lbnQgPSBkb2N1bWVudC5nZXRFbGVtZW50QnlJZChvdXRwdXRJZCk7CiAgb3V0cHV0RWxlbWVudC5pbm5lckhUTUwgPSAnJzsKCiAgY29uc3QgcGlja2VkUHJvbWlzZSA9IG5ldyBQcm9taXNlKChyZXNvbHZlKSA9PiB7CiAgICBpbnB1dEVsZW1lbnQuYWRkRXZlbnRMaXN0ZW5lcignY2hhbmdlJywgKGUpID0+IHsKICAgICAgcmVzb2x2ZShlLnRhcmdldC5maWxlcyk7CiAgICB9KTsKICB9KTsKCiAgY29uc3QgY2FuY2VsID0gZG9jdW1lbnQuY3JlYXRlRWxlbWVudCgnYnV0dG9uJyk7CiAgaW5wdXRFbGVtZW50LnBhcmVudEVsZW1lbnQuYXBwZW5kQ2hpbGQoY2FuY2VsKTsKICBjYW5jZWwudGV4dENvbnRlbnQgPSAnQ2FuY2VsIHVwbG9hZCc7CiAgY29uc3QgY2FuY2VsUHJvbWlzZSA9IG5ldyBQcm9taXNlKChyZXNvbHZlKSA9PiB7CiAgICBjYW5jZWwub25jbGljayA9ICgpID0+IHsKICAgICAgcmVzb2x2ZShudWxsKTsKICAgIH07CiAgfSk7CgogIC8vIENhbmNlbCB1cGxvYWQgaWYgdXNlciBoYXNuJ3QgcGlja2VkIGFueXRoaW5nIGluIHRpbWVvdXQuCiAgY29uc3QgdGltZW91dFByb21pc2UgPSBuZXcgUHJvbWlzZSgocmVzb2x2ZSkgPT4gewogICAgc2V0VGltZW91dCgoKSA9PiB7CiAgICAgIHJlc29sdmUobnVsbCk7CiAgICB9LCBGSUxFX0NIQU5HRV9USU1FT1VUX01TKTsKICB9KTsKCiAgLy8gV2FpdCBmb3IgdGhlIHVzZXIgdG8gcGljayB0aGUgZmlsZXMuCiAgY29uc3QgZmlsZXMgPSB5aWVsZCB7CiAgICBwcm9taXNlOiBQcm9taXNlLnJhY2UoW3BpY2tlZFByb21pc2UsIHRpbWVvdXRQcm9taXNlLCBjYW5jZWxQcm9taXNlXSksCiAgICByZXNwb25zZTogewogICAgICBhY3Rpb246ICdzdGFydGluZycsCiAgICB9CiAgfTsKCiAgaWYgKCFmaWxlcykgewogICAgcmV0dXJuIHsKICAgICAgcmVzcG9uc2U6IHsKICAgICAgICBhY3Rpb246ICdjb21wbGV0ZScsCiAgICAgIH0KICAgIH07CiAgfQoKICBjYW5jZWwucmVtb3ZlKCk7CgogIC8vIERpc2FibGUgdGhlIGlucHV0IGVsZW1lbnQgc2luY2UgZnVydGhlciBwaWNrcyBhcmUgbm90IGFsbG93ZWQuCiAgaW5wdXRFbGVtZW50LmRpc2FibGVkID0gdHJ1ZTsKCiAgZm9yIChjb25zdCBmaWxlIG9mIGZpbGVzKSB7CiAgICBjb25zdCBsaSA9IGRvY3VtZW50LmNyZWF0ZUVsZW1lbnQoJ2xpJyk7CiAgICBsaS5hcHBlbmQoc3BhbihmaWxlLm5hbWUsIHtmb250V2VpZ2h0OiAnYm9sZCd9KSk7CiAgICBsaS5hcHBlbmQoc3BhbigKICAgICAgICBgKCR7ZmlsZS50eXBlIHx8ICduL2EnfSkgLSAke2ZpbGUuc2l6ZX0gYnl0ZXMsIGAgKwogICAgICAgIGBsYXN0IG1vZGlmaWVkOiAkewogICAgICAgICAgICBmaWxlLmxhc3RNb2RpZmllZERhdGUgPyBmaWxlLmxhc3RNb2RpZmllZERhdGUudG9Mb2NhbGVEYXRlU3RyaW5nKCkgOgogICAgICAgICAgICAgICAgICAgICAgICAgICAgICAgICAgICAnbi9hJ30gLSBgKSk7CiAgICBjb25zdCBwZXJjZW50ID0gc3BhbignMCUgZG9uZScpOwogICAgbGkuYXBwZW5kQ2hpbGQocGVyY2VudCk7CgogICAgb3V0cHV0RWxlbWVudC5hcHBlbmRDaGlsZChsaSk7CgogICAgY29uc3QgZmlsZURhdGFQcm9taXNlID0gbmV3IFByb21pc2UoKHJlc29sdmUpID0+IHsKICAgICAgY29uc3QgcmVhZGVyID0gbmV3IEZpbGVSZWFkZXIoKTsKICAgICAgcmVhZGVyLm9ubG9hZCA9IChlKSA9PiB7CiAgICAgICAgcmVzb2x2ZShlLnRhcmdldC5yZXN1bHQpOwogICAgICB9OwogICAgICByZWFkZXIucmVhZEFzQXJyYXlCdWZmZXIoZmlsZSk7CiAgICB9KTsKICAgIC8vIFdhaXQgZm9yIHRoZSBkYXRhIHRvIGJlIHJlYWR5LgogICAgbGV0IGZpbGVEYXRhID0geWllbGQgewogICAgICBwcm9taXNlOiBmaWxlRGF0YVByb21pc2UsCiAgICAgIHJlc3BvbnNlOiB7CiAgICAgICAgYWN0aW9uOiAnY29udGludWUnLAogICAgICB9CiAgICB9OwoKICAgIC8vIFVzZSBhIGNodW5rZWQgc2VuZGluZyB0byBhdm9pZCBtZXNzYWdlIHNpemUgbGltaXRzLiBTZWUgYi82MjExNTY2MC4KICAgIGxldCBwb3NpdGlvbiA9IDA7CiAgICB3aGlsZSAocG9zaXRpb24gPCBmaWxlRGF0YS5ieXRlTGVuZ3RoKSB7CiAgICAgIGNvbnN0IGxlbmd0aCA9IE1hdGgubWluKGZpbGVEYXRhLmJ5dGVMZW5ndGggLSBwb3NpdGlvbiwgTUFYX1BBWUxPQURfU0laRSk7CiAgICAgIGNvbnN0IGNodW5rID0gbmV3IFVpbnQ4QXJyYXkoZmlsZURhdGEsIHBvc2l0aW9uLCBsZW5ndGgpOwogICAgICBwb3NpdGlvbiArPSBsZW5ndGg7CgogICAgICBjb25zdCBiYXNlNjQgPSBidG9hKFN0cmluZy5mcm9tQ2hhckNvZGUuYXBwbHkobnVsbCwgY2h1bmspKTsKICAgICAgeWllbGQgewogICAgICAgIHJlc3BvbnNlOiB7CiAgICAgICAgICBhY3Rpb246ICdhcHBlbmQnLAogICAgICAgICAgZmlsZTogZmlsZS5uYW1lLAogICAgICAgICAgZGF0YTogYmFzZTY0LAogICAgICAgIH0sCiAgICAgIH07CiAgICAgIHBlcmNlbnQudGV4dENvbnRlbnQgPQogICAgICAgICAgYCR7TWF0aC5yb3VuZCgocG9zaXRpb24gLyBmaWxlRGF0YS5ieXRlTGVuZ3RoKSAqIDEwMCl9JSBkb25lYDsKICAgIH0KICB9CgogIC8vIEFsbCBkb25lLgogIHlpZWxkIHsKICAgIHJlc3BvbnNlOiB7CiAgICAgIGFjdGlvbjogJ2NvbXBsZXRlJywKICAgIH0KICB9Owp9CgpzY29wZS5nb29nbGUgPSBzY29wZS5nb29nbGUgfHwge307CnNjb3BlLmdvb2dsZS5jb2xhYiA9IHNjb3BlLmdvb2dsZS5jb2xhYiB8fCB7fTsKc2NvcGUuZ29vZ2xlLmNvbGFiLl9maWxlcyA9IHsKICBfdXBsb2FkRmlsZXMsCiAgX3VwbG9hZEZpbGVzQ29udGludWUsCn07Cn0pKHNlbGYpOwo=",
              "ok": true,
              "headers": [
                [
                  "content-type",
                  "application/javascript"
                ]
              ],
              "status": 200,
              "status_text": ""
            }
          },
          "base_uri": "https://localhost:8080/",
          "height": 88
        },
        "outputId": "a59f5d16-da6b-4b99-ba0a-41b5867a4600"
      },
      "source": [
        "from google.colab import files\n",
        "\n",
        "uploaded = files.upload()\n",
        "\n",
        "for fn in uploaded.keys():\n",
        "  print('User uploaded file \"{name}\" with length {length} bytes'.format(\n",
        "      name=fn, length=len(uploaded[fn])))"
      ],
      "execution_count": 10,
      "outputs": [
        {
          "output_type": "display_data",
          "data": {
            "text/html": [
              "\n",
              "     <input type=\"file\" id=\"files-422222e8-98e0-43e8-a762-76ce3b665003\" name=\"files[]\" multiple disabled />\n",
              "     <output id=\"result-422222e8-98e0-43e8-a762-76ce3b665003\">\n",
              "      Upload widget is only available when the cell has been executed in the\n",
              "      current browser session. Please rerun this cell to enable.\n",
              "      </output>\n",
              "      <script src=\"/nbextensions/google.colab/files.js\"></script> "
            ],
            "text/plain": [
              "<IPython.core.display.HTML object>"
            ]
          },
          "metadata": {
            "tags": []
          }
        },
        {
          "output_type": "stream",
          "text": [
            "Saving mtcars.xlsx to mtcars (1).xlsx\n",
            "User uploaded file \"mtcars.xlsx\" with length 18286 bytes\n"
          ],
          "name": "stdout"
        }
      ]
    },
    {
      "cell_type": "code",
      "metadata": {
        "id": "DbZLdMNvv6lq",
        "colab_type": "code",
        "colab": {}
      },
      "source": [
        "mt = pd.read_excel('mtcars.xlsx')"
      ],
      "execution_count": 0,
      "outputs": []
    },
    {
      "cell_type": "code",
      "metadata": {
        "id": "swas8nvJwkO8",
        "colab_type": "code",
        "colab": {
          "base_uri": "https://localhost:8080/",
          "height": 34
        },
        "outputId": "5b5cc96e-35cc-4a4c-ce33-59f93fcdb660"
      },
      "source": [
        "mt.shape"
      ],
      "execution_count": 12,
      "outputs": [
        {
          "output_type": "execute_result",
          "data": {
            "text/plain": [
              "(32, 11)"
            ]
          },
          "metadata": {
            "tags": []
          },
          "execution_count": 12
        }
      ]
    },
    {
      "cell_type": "code",
      "metadata": {
        "id": "WcASkQFtw69h",
        "colab_type": "code",
        "colab": {
          "base_uri": "https://localhost:8080/",
          "height": 204
        },
        "outputId": "8213bb3a-e6d9-4ba5-8309-656652d971e4"
      },
      "source": [
        "mt.head()"
      ],
      "execution_count": 13,
      "outputs": [
        {
          "output_type": "execute_result",
          "data": {
            "text/html": [
              "<div>\n",
              "<style scoped>\n",
              "    .dataframe tbody tr th:only-of-type {\n",
              "        vertical-align: middle;\n",
              "    }\n",
              "\n",
              "    .dataframe tbody tr th {\n",
              "        vertical-align: top;\n",
              "    }\n",
              "\n",
              "    .dataframe thead th {\n",
              "        text-align: right;\n",
              "    }\n",
              "</style>\n",
              "<table border=\"1\" class=\"dataframe\">\n",
              "  <thead>\n",
              "    <tr style=\"text-align: right;\">\n",
              "      <th></th>\n",
              "      <th>mpg</th>\n",
              "      <th>cyl</th>\n",
              "      <th>disp</th>\n",
              "      <th>hp</th>\n",
              "      <th>drat</th>\n",
              "      <th>wt</th>\n",
              "      <th>qsec</th>\n",
              "      <th>vs</th>\n",
              "      <th>am</th>\n",
              "      <th>gear</th>\n",
              "      <th>carb</th>\n",
              "    </tr>\n",
              "  </thead>\n",
              "  <tbody>\n",
              "    <tr>\n",
              "      <th>0</th>\n",
              "      <td>21.0</td>\n",
              "      <td>6</td>\n",
              "      <td>160.0</td>\n",
              "      <td>110</td>\n",
              "      <td>3.90</td>\n",
              "      <td>2.620</td>\n",
              "      <td>16.46</td>\n",
              "      <td>0</td>\n",
              "      <td>1</td>\n",
              "      <td>4</td>\n",
              "      <td>4</td>\n",
              "    </tr>\n",
              "    <tr>\n",
              "      <th>1</th>\n",
              "      <td>21.0</td>\n",
              "      <td>6</td>\n",
              "      <td>160.0</td>\n",
              "      <td>110</td>\n",
              "      <td>3.90</td>\n",
              "      <td>2.875</td>\n",
              "      <td>17.02</td>\n",
              "      <td>0</td>\n",
              "      <td>1</td>\n",
              "      <td>4</td>\n",
              "      <td>4</td>\n",
              "    </tr>\n",
              "    <tr>\n",
              "      <th>2</th>\n",
              "      <td>22.8</td>\n",
              "      <td>4</td>\n",
              "      <td>108.0</td>\n",
              "      <td>93</td>\n",
              "      <td>3.85</td>\n",
              "      <td>2.320</td>\n",
              "      <td>18.61</td>\n",
              "      <td>1</td>\n",
              "      <td>1</td>\n",
              "      <td>4</td>\n",
              "      <td>1</td>\n",
              "    </tr>\n",
              "    <tr>\n",
              "      <th>3</th>\n",
              "      <td>21.4</td>\n",
              "      <td>6</td>\n",
              "      <td>258.0</td>\n",
              "      <td>110</td>\n",
              "      <td>3.08</td>\n",
              "      <td>3.215</td>\n",
              "      <td>19.44</td>\n",
              "      <td>1</td>\n",
              "      <td>0</td>\n",
              "      <td>3</td>\n",
              "      <td>1</td>\n",
              "    </tr>\n",
              "    <tr>\n",
              "      <th>4</th>\n",
              "      <td>18.7</td>\n",
              "      <td>8</td>\n",
              "      <td>360.0</td>\n",
              "      <td>175</td>\n",
              "      <td>3.15</td>\n",
              "      <td>3.440</td>\n",
              "      <td>17.02</td>\n",
              "      <td>0</td>\n",
              "      <td>0</td>\n",
              "      <td>3</td>\n",
              "      <td>2</td>\n",
              "    </tr>\n",
              "  </tbody>\n",
              "</table>\n",
              "</div>"
            ],
            "text/plain": [
              "    mpg  cyl   disp   hp  drat     wt   qsec  vs  am  gear  carb\n",
              "0  21.0    6  160.0  110  3.90  2.620  16.46   0   1     4     4\n",
              "1  21.0    6  160.0  110  3.90  2.875  17.02   0   1     4     4\n",
              "2  22.8    4  108.0   93  3.85  2.320  18.61   1   1     4     1\n",
              "3  21.4    6  258.0  110  3.08  3.215  19.44   1   0     3     1\n",
              "4  18.7    8  360.0  175  3.15  3.440  17.02   0   0     3     2"
            ]
          },
          "metadata": {
            "tags": []
          },
          "execution_count": 13
        }
      ]
    },
    {
      "cell_type": "code",
      "metadata": {
        "id": "A1MGfLSLJj97",
        "colab_type": "code",
        "colab": {}
      },
      "source": [
        "#Question: Relationship between miles per gallon (mpg) and 10 different automobile design variables?"
      ],
      "execution_count": 0,
      "outputs": []
    },
    {
      "cell_type": "code",
      "metadata": {
        "id": "EjszbiyOKQce",
        "colab_type": "code",
        "colab": {}
      },
      "source": [
        "#To what degree does the cyl variable impact mpg?"
      ],
      "execution_count": 0,
      "outputs": []
    },
    {
      "cell_type": "code",
      "metadata": {
        "id": "dMtuJuA7KhcP",
        "colab_type": "code",
        "colab": {}
      },
      "source": [
        "#To what degree does the disp variable impact mpg?"
      ],
      "execution_count": 0,
      "outputs": []
    },
    {
      "cell_type": "code",
      "metadata": {
        "id": "B_BaVuuBKisI",
        "colab_type": "code",
        "colab": {}
      },
      "source": [
        "#To what degree does the hp variable impact mpg?"
      ],
      "execution_count": 0,
      "outputs": []
    },
    {
      "cell_type": "code",
      "metadata": {
        "id": "TPZlHvWRKi4g",
        "colab_type": "code",
        "colab": {}
      },
      "source": [
        "#To what degree does the drat variable impact mpg?"
      ],
      "execution_count": 0,
      "outputs": []
    },
    {
      "cell_type": "code",
      "metadata": {
        "id": "JcCo-HL2KjGD",
        "colab_type": "code",
        "colab": {}
      },
      "source": [
        "#To what degree does the wt variable impact mpg?"
      ],
      "execution_count": 0,
      "outputs": []
    },
    {
      "cell_type": "code",
      "metadata": {
        "id": "7OZsXsLgKjP7",
        "colab_type": "code",
        "colab": {}
      },
      "source": [
        "#To what degree does the qsec variable impact mpg?"
      ],
      "execution_count": 0,
      "outputs": []
    },
    {
      "cell_type": "code",
      "metadata": {
        "id": "JL6O8OUTKjaJ",
        "colab_type": "code",
        "colab": {}
      },
      "source": [
        "#To what degree does the vs variable impact mpg?"
      ],
      "execution_count": 0,
      "outputs": []
    },
    {
      "cell_type": "code",
      "metadata": {
        "id": "-AgsS2bNKjjW",
        "colab_type": "code",
        "colab": {}
      },
      "source": [
        "#To what degree does the am variable impact mpg?"
      ],
      "execution_count": 0,
      "outputs": []
    },
    {
      "cell_type": "code",
      "metadata": {
        "id": "gGPcr2sLKjrU",
        "colab_type": "code",
        "colab": {}
      },
      "source": [
        "#To what degree does the gear variable impact mpg?"
      ],
      "execution_count": 0,
      "outputs": []
    },
    {
      "cell_type": "code",
      "metadata": {
        "id": "j3JHQF1YKj0C",
        "colab_type": "code",
        "colab": {}
      },
      "source": [
        "#To what degree does the carb variable impact mpg?"
      ],
      "execution_count": 0,
      "outputs": []
    },
    {
      "cell_type": "code",
      "metadata": {
        "id": "RTVE6QJrD0g7",
        "colab_type": "code",
        "colab": {}
      },
      "source": [
        "#Partition of the mtcars data using a 70/30 split."
      ],
      "execution_count": 0,
      "outputs": []
    },
    {
      "cell_type": "code",
      "metadata": {
        "id": "c2eMXm4nFDPD",
        "colab_type": "code",
        "colab": {}
      },
      "source": [
        "#In addition, I generate the ramdom sample using sample() and drop() functions."
      ],
      "execution_count": 0,
      "outputs": []
    },
    {
      "cell_type": "code",
      "metadata": {
        "id": "pP8VdLLgxyGS",
        "colab_type": "code",
        "colab": {}
      },
      "source": [
        "train_data = mt.sample(frac = 0.7) \n",
        "test_data = mt.drop(train_data.index)"
      ],
      "execution_count": 0,
      "outputs": []
    },
    {
      "cell_type": "code",
      "metadata": {
        "id": "uSs6n9c9Ec9a",
        "colab_type": "code",
        "colab": {}
      },
      "source": [
        "#train_data.shape confirms 70% of data in train_data"
      ],
      "execution_count": 0,
      "outputs": []
    },
    {
      "cell_type": "code",
      "metadata": {
        "id": "JAQrR_t0CdUT",
        "colab_type": "code",
        "colab": {
          "base_uri": "https://localhost:8080/",
          "height": 34
        },
        "outputId": "8c6ea424-5793-4abe-d330-1dc28ee97108"
      },
      "source": [
        "train_data.shape"
      ],
      "execution_count": 15,
      "outputs": [
        {
          "output_type": "execute_result",
          "data": {
            "text/plain": [
              "(22, 11)"
            ]
          },
          "metadata": {
            "tags": []
          },
          "execution_count": 15
        }
      ]
    },
    {
      "cell_type": "code",
      "metadata": {
        "id": "KuL1pyv_EpJj",
        "colab_type": "code",
        "colab": {}
      },
      "source": [
        "#test_data.shape confirms 30% of data in test_data"
      ],
      "execution_count": 0,
      "outputs": []
    },
    {
      "cell_type": "code",
      "metadata": {
        "id": "DmuJHigFCoRU",
        "colab_type": "code",
        "colab": {
          "base_uri": "https://localhost:8080/",
          "height": 34
        },
        "outputId": "10398990-2889-423a-d551-b6f2def63690"
      },
      "source": [
        "test_data.shape"
      ],
      "execution_count": 16,
      "outputs": [
        {
          "output_type": "execute_result",
          "data": {
            "text/plain": [
              "(10, 11)"
            ]
          },
          "metadata": {
            "tags": []
          },
          "execution_count": 16
        }
      ]
    },
    {
      "cell_type": "code",
      "metadata": {
        "id": "8P6K5OuvGzRg",
        "colab_type": "code",
        "colab": {}
      },
      "source": [
        "y = train_data[\"mpg\"]\n",
        "X1 = train_data[\"cyl\"]"
      ],
      "execution_count": 0,
      "outputs": []
    },
    {
      "cell_type": "code",
      "metadata": {
        "id": "zYmy24eLHNxS",
        "colab_type": "code",
        "colab": {
          "base_uri": "https://localhost:8080/",
          "height": 71
        },
        "outputId": "188f9acc-e88a-4587-84f2-6fe686be5b4f"
      },
      "source": [
        "X1 = sm.add_constant(X1)"
      ],
      "execution_count": 26,
      "outputs": [
        {
          "output_type": "stream",
          "text": [
            "/usr/local/lib/python3.6/dist-packages/numpy/core/fromnumeric.py:2495: FutureWarning: Method .ptp is deprecated and will be removed in a future version. Use numpy.ptp instead.\n",
            "  return ptp(axis=axis, out=out, **kwargs)\n"
          ],
          "name": "stderr"
        }
      ]
    },
    {
      "cell_type": "code",
      "metadata": {
        "id": "8NBnPWdPHfRN",
        "colab_type": "code",
        "colab": {}
      },
      "source": [
        "model1 = sm.OLS(y, X1)"
      ],
      "execution_count": 0,
      "outputs": []
    },
    {
      "cell_type": "code",
      "metadata": {
        "id": "FMUJAh5gHpvV",
        "colab_type": "code",
        "colab": {}
      },
      "source": [
        "model1_fit = model1.fit()"
      ],
      "execution_count": 0,
      "outputs": []
    },
    {
      "cell_type": "code",
      "metadata": {
        "id": "m7Iexl-FRXTF",
        "colab_type": "code",
        "colab": {
          "base_uri": "https://localhost:8080/",
          "height": 34
        },
        "outputId": "092c874e-c693-4f59-db71-ea46f7389c2f"
      },
      "source": [
        "## model residuals\n",
        "model_residuals = model1_fit.resid\n",
        "\n",
        "st.mean(model_residuals)"
      ],
      "execution_count": 37,
      "outputs": [
        {
          "output_type": "execute_result",
          "data": {
            "text/plain": [
              "1.6148698540002277e-16"
            ]
          },
          "metadata": {
            "tags": []
          },
          "execution_count": 37
        }
      ]
    },
    {
      "cell_type": "code",
      "metadata": {
        "id": "qpuP3MYclu5h",
        "colab_type": "code",
        "colab": {
          "base_uri": "https://localhost:8080/",
          "height": 295
        },
        "outputId": "344ee075-05de-4fa6-df0b-df86ddb6acf8"
      },
      "source": [
        "plot = sb.residplot(model1_fit.fittedvalues,\n",
        "                    train_data.columns[3],\n",
        "                    data=train_data,\n",
        "                    lowess=True,\n",
        "                    scatter_kws={'alpha': 0.5},\n",
        "                    line_kws={'color': 'red', 'lw' : 1, 'alpha': 0.8})\n",
        "plot.set_title('Residuals vs Fitted')\n",
        "plot.set_xlabel('Fitted values')\n",
        "plot.set_ylabel('Residuals');\n",
        "\n",
        "plt.show(plot)"
      ],
      "execution_count": 40,
      "outputs": [
        {
          "output_type": "display_data",
          "data": {
            "image/png": "[encoded data removed]",
            "text/plain": [
              "<Figure size 432x288 with 1 Axes>"
            ]
          },
          "metadata": {
            "tags": []
          }
        }
      ]
    },
    {
      "cell_type": "code",
      "metadata": {
        "id": "Yu8gXRwHov3_",
        "colab_type": "code",
        "colab": {
          "base_uri": "https://localhost:8080/",
          "height": 442
        },
        "outputId": "1a854cef-665a-401e-e0db-ec93cc75ec12"
      },
      "source": [
        "## mpg = 39.0127 - 3.0152 + E\n",
        "print(model1_fit.summary())"
      ],
      "execution_count": 41,
      "outputs": [
        {
          "output_type": "stream",
          "text": [
            "                            OLS Regression Results                            \n",
            "==============================================================================\n",
            "Dep. Variable:                    mpg   R-squared:                       0.722\n",
            "Model:                            OLS   Adj. R-squared:                  0.708\n",
            "Method:                 Least Squares   F-statistic:                     51.84\n",
            "Date:                Mon, 24 Feb 2020   Prob (F-statistic):           5.70e-07\n",
            "Time:                        00:40:30   Log-Likelihood:                -58.630\n",
            "No. Observations:                  22   AIC:                             121.3\n",
            "Df Residuals:                      20   BIC:                             123.4\n",
            "Df Model:                           1                                         \n",
            "Covariance Type:            nonrobust                                         \n",
            "==============================================================================\n",
            "                 coef    std err          t      P>|t|      [0.025      0.975]\n",
            "------------------------------------------------------------------------------\n",
            "const         39.0127      2.594     15.041      0.000      33.602      44.423\n",
            "cyl           -3.0152      0.419     -7.200      0.000      -3.889      -2.142\n",
            "==============================================================================\n",
            "Omnibus:                        1.522   Durbin-Watson:                   1.992\n",
            "Prob(Omnibus):                  0.467   Jarque-Bera (JB):                1.018\n",
            "Skew:                           0.205   Prob(JB):                        0.601\n",
            "Kurtosis:                       2.029   Cond. No.                         21.2\n",
            "==============================================================================\n",
            "\n",
            "Warnings:\n",
            "[1] Standard Errors assume that the covariance matrix of the errors is correctly specified.\n"
          ],
          "name": "stdout"
        }
      ]
    },
    {
      "cell_type": "code",
      "metadata": {
        "id": "srbKCypqsBEt",
        "colab_type": "code",
        "colab": {
          "base_uri": "https://localhost:8080/",
          "height": 413
        },
        "outputId": "073285e0-48f0-4434-b8d7-a4ca1c46a8c4"
      },
      "source": [
        "X_new = test_data['carb']\n",
        "X_new = sm.add_constant(X_new)\n",
        "\n",
        "# make the predictions by the model\n",
        "test_data[\"predictions\"] = model1_fit.predict(X_new)\n",
        "\n",
        "test_data"
      ],
      "execution_count": 43,
      "outputs": [
        {
          "output_type": "stream",
          "text": [
            "/usr/local/lib/python3.6/dist-packages/numpy/core/fromnumeric.py:2495: FutureWarning: Method .ptp is deprecated and will be removed in a future version. Use numpy.ptp instead.\n",
            "  return ptp(axis=axis, out=out, **kwargs)\n"
          ],
          "name": "stderr"
        },
        {
          "output_type": "execute_result",
          "data": {
            "text/html": [
              "<div>\n",
              "<style scoped>\n",
              "    .dataframe tbody tr th:only-of-type {\n",
              "        vertical-align: middle;\n",
              "    }\n",
              "\n",
              "    .dataframe tbody tr th {\n",
              "        vertical-align: top;\n",
              "    }\n",
              "\n",
              "    .dataframe thead th {\n",
              "        text-align: right;\n",
              "    }\n",
              "</style>\n",
              "<table border=\"1\" class=\"dataframe\">\n",
              "  <thead>\n",
              "    <tr style=\"text-align: right;\">\n",
              "      <th></th>\n",
              "      <th>mpg</th>\n",
              "      <th>cyl</th>\n",
              "      <th>disp</th>\n",
              "      <th>hp</th>\n",
              "      <th>drat</th>\n",
              "      <th>wt</th>\n",
              "      <th>qsec</th>\n",
              "      <th>vs</th>\n",
              "      <th>am</th>\n",
              "      <th>gear</th>\n",
              "      <th>carb</th>\n",
              "      <th>predictions</th>\n",
              "    </tr>\n",
              "  </thead>\n",
              "  <tbody>\n",
              "    <tr>\n",
              "      <th>0</th>\n",
              "      <td>21.0</td>\n",
              "      <td>6</td>\n",
              "      <td>160.0</td>\n",
              "      <td>110</td>\n",
              "      <td>3.90</td>\n",
              "      <td>2.620</td>\n",
              "      <td>16.46</td>\n",
              "      <td>0</td>\n",
              "      <td>1</td>\n",
              "      <td>4</td>\n",
              "      <td>4</td>\n",
              "      <td>26.951799</td>\n",
              "    </tr>\n",
              "    <tr>\n",
              "      <th>3</th>\n",
              "      <td>21.4</td>\n",
              "      <td>6</td>\n",
              "      <td>258.0</td>\n",
              "      <td>110</td>\n",
              "      <td>3.08</td>\n",
              "      <td>3.215</td>\n",
              "      <td>19.44</td>\n",
              "      <td>1</td>\n",
              "      <td>0</td>\n",
              "      <td>3</td>\n",
              "      <td>1</td>\n",
              "      <td>35.997482</td>\n",
              "    </tr>\n",
              "    <tr>\n",
              "      <th>5</th>\n",
              "      <td>18.1</td>\n",
              "      <td>6</td>\n",
              "      <td>225.0</td>\n",
              "      <td>105</td>\n",
              "      <td>2.76</td>\n",
              "      <td>3.460</td>\n",
              "      <td>20.22</td>\n",
              "      <td>1</td>\n",
              "      <td>0</td>\n",
              "      <td>3</td>\n",
              "      <td>1</td>\n",
              "      <td>35.997482</td>\n",
              "    </tr>\n",
              "    <tr>\n",
              "      <th>6</th>\n",
              "      <td>14.3</td>\n",
              "      <td>8</td>\n",
              "      <td>360.0</td>\n",
              "      <td>245</td>\n",
              "      <td>3.21</td>\n",
              "      <td>3.570</td>\n",
              "      <td>15.84</td>\n",
              "      <td>0</td>\n",
              "      <td>0</td>\n",
              "      <td>3</td>\n",
              "      <td>4</td>\n",
              "      <td>26.951799</td>\n",
              "    </tr>\n",
              "    <tr>\n",
              "      <th>11</th>\n",
              "      <td>16.4</td>\n",
              "      <td>8</td>\n",
              "      <td>275.8</td>\n",
              "      <td>180</td>\n",
              "      <td>3.07</td>\n",
              "      <td>4.070</td>\n",
              "      <td>17.40</td>\n",
              "      <td>0</td>\n",
              "      <td>0</td>\n",
              "      <td>3</td>\n",
              "      <td>3</td>\n",
              "      <td>29.967026</td>\n",
              "    </tr>\n",
              "    <tr>\n",
              "      <th>22</th>\n",
              "      <td>15.2</td>\n",
              "      <td>8</td>\n",
              "      <td>304.0</td>\n",
              "      <td>150</td>\n",
              "      <td>3.15</td>\n",
              "      <td>3.435</td>\n",
              "      <td>17.30</td>\n",
              "      <td>0</td>\n",
              "      <td>0</td>\n",
              "      <td>3</td>\n",
              "      <td>2</td>\n",
              "      <td>32.982254</td>\n",
              "    </tr>\n",
              "    <tr>\n",
              "      <th>23</th>\n",
              "      <td>13.3</td>\n",
              "      <td>8</td>\n",
              "      <td>350.0</td>\n",
              "      <td>245</td>\n",
              "      <td>3.73</td>\n",
              "      <td>3.840</td>\n",
              "      <td>15.41</td>\n",
              "      <td>0</td>\n",
              "      <td>0</td>\n",
              "      <td>3</td>\n",
              "      <td>4</td>\n",
              "      <td>26.951799</td>\n",
              "    </tr>\n",
              "    <tr>\n",
              "      <th>28</th>\n",
              "      <td>15.8</td>\n",
              "      <td>8</td>\n",
              "      <td>351.0</td>\n",
              "      <td>264</td>\n",
              "      <td>4.22</td>\n",
              "      <td>3.170</td>\n",
              "      <td>14.50</td>\n",
              "      <td>0</td>\n",
              "      <td>1</td>\n",
              "      <td>5</td>\n",
              "      <td>4</td>\n",
              "      <td>26.951799</td>\n",
              "    </tr>\n",
              "    <tr>\n",
              "      <th>29</th>\n",
              "      <td>19.7</td>\n",
              "      <td>6</td>\n",
              "      <td>145.0</td>\n",
              "      <td>175</td>\n",
              "      <td>3.62</td>\n",
              "      <td>2.770</td>\n",
              "      <td>15.50</td>\n",
              "      <td>0</td>\n",
              "      <td>1</td>\n",
              "      <td>5</td>\n",
              "      <td>6</td>\n",
              "      <td>20.921343</td>\n",
              "    </tr>\n",
              "    <tr>\n",
              "      <th>31</th>\n",
              "      <td>21.4</td>\n",
              "      <td>4</td>\n",
              "      <td>121.0</td>\n",
              "      <td>109</td>\n",
              "      <td>4.11</td>\n",
              "      <td>2.780</td>\n",
              "      <td>18.60</td>\n",
              "      <td>1</td>\n",
              "      <td>1</td>\n",
              "      <td>4</td>\n",
              "      <td>2</td>\n",
              "      <td>32.982254</td>\n",
              "    </tr>\n",
              "  </tbody>\n",
              "</table>\n",
              "</div>"
            ],
            "text/plain": [
              "     mpg  cyl   disp   hp  drat     wt   qsec  vs  am  gear  carb  predictions\n",
              "0   21.0    6  160.0  110  3.90  2.620  16.46   0   1     4     4    26.951799\n",
              "3   21.4    6  258.0  110  3.08  3.215  19.44   1   0     3     1    35.997482\n",
              "5   18.1    6  225.0  105  2.76  3.460  20.22   1   0     3     1    35.997482\n",
              "6   14.3    8  360.0  245  3.21  3.570  15.84   0   0     3     4    26.951799\n",
              "11  16.4    8  275.8  180  3.07  4.070  17.40   0   0     3     3    29.967026\n",
              "22  15.2    8  304.0  150  3.15  3.435  17.30   0   0     3     2    32.982254\n",
              "23  13.3    8  350.0  245  3.73  3.840  15.41   0   0     3     4    26.951799\n",
              "28  15.8    8  351.0  264  4.22  3.170  14.50   0   1     5     4    26.951799\n",
              "29  19.7    6  145.0  175  3.62  2.770  15.50   0   1     5     6    20.921343\n",
              "31  21.4    4  121.0  109  4.11  2.780  18.60   1   1     4     2    32.982254"
            ]
          },
          "metadata": {
            "tags": []
          },
          "execution_count": 43
        }
      ]
    },
    {
      "cell_type": "code",
      "metadata": {
        "id": "AdMMdG5_twP7",
        "colab_type": "code",
        "colab": {
          "base_uri": "https://localhost:8080/",
          "height": 496
        },
        "outputId": "855e4007-f73b-4d87-e981-1e272fc6b916"
      },
      "source": [
        "## Model 2 with 'disp' variable\n",
        "X2 = train_data[\"disp\"]\n",
        "X2 = sm.add_constant(X2)\n",
        "model2 = sm.OLS(y, X2)\n",
        "model2_fit = model2.fit()\n",
        "print(model2_fit.summary())"
      ],
      "execution_count": 44,
      "outputs": [
        {
          "output_type": "stream",
          "text": [
            "                            OLS Regression Results                            \n",
            "==============================================================================\n",
            "Dep. Variable:                    mpg   R-squared:                       0.732\n",
            "Model:                            OLS   Adj. R-squared:                  0.719\n",
            "Method:                 Least Squares   F-statistic:                     54.65\n",
            "Date:                Mon, 24 Feb 2020   Prob (F-statistic):           3.86e-07\n",
            "Time:                        02:14:02   Log-Likelihood:                -58.209\n",
            "No. Observations:                  22   AIC:                             120.4\n",
            "Df Residuals:                      20   BIC:                             122.6\n",
            "Df Model:                           1                                         \n",
            "Covariance Type:            nonrobust                                         \n",
            "==============================================================================\n",
            "                 coef    std err          t      P>|t|      [0.025      0.975]\n",
            "------------------------------------------------------------------------------\n",
            "const         30.4331      1.464     20.788      0.000      27.379      33.487\n",
            "disp          -0.0420      0.006     -7.392      0.000      -0.054      -0.030\n",
            "==============================================================================\n",
            "Omnibus:                        2.179   Durbin-Watson:                   1.964\n",
            "Prob(Omnibus):                  0.336   Jarque-Bera (JB):                1.384\n",
            "Skew:                           0.352   Prob(JB):                        0.501\n",
            "Kurtosis:                       1.993   Cond. No.                         494.\n",
            "==============================================================================\n",
            "\n",
            "Warnings:\n",
            "[1] Standard Errors assume that the covariance matrix of the errors is correctly specified.\n"
          ],
          "name": "stdout"
        },
        {
          "output_type": "stream",
          "text": [
            "/usr/local/lib/python3.6/dist-packages/numpy/core/fromnumeric.py:2495: FutureWarning: Method .ptp is deprecated and will be removed in a future version. Use numpy.ptp instead.\n",
            "  return ptp(axis=axis, out=out, **kwargs)\n"
          ],
          "name": "stderr"
        }
      ]
    },
    {
      "cell_type": "code",
      "metadata": {
        "id": "nSdMn6Ms-jZ1",
        "colab_type": "code",
        "colab": {
          "base_uri": "https://localhost:8080/",
          "height": 496
        },
        "outputId": "d0ba694e-0d54-498a-c60c-25515e7f3e00"
      },
      "source": [
        "## Model 3 with 'hp' variable\n",
        "X3 = train_data[\"hp\"]\n",
        "X3 = sm.add_constant(X3)\n",
        "model3 = sm.OLS(y, X3)\n",
        "model3_fit = model3.fit()\n",
        "print(model3_fit.summary())"
      ],
      "execution_count": 45,
      "outputs": [
        {
          "output_type": "stream",
          "text": [
            "                            OLS Regression Results                            \n",
            "==============================================================================\n",
            "Dep. Variable:                    mpg   R-squared:                       0.614\n",
            "Model:                            OLS   Adj. R-squared:                  0.595\n",
            "Method:                 Least Squares   F-statistic:                     31.81\n",
            "Date:                Mon, 24 Feb 2020   Prob (F-statistic):           1.61e-05\n",
            "Time:                        02:16:13   Log-Likelihood:                -62.227\n",
            "No. Observations:                  22   AIC:                             128.5\n",
            "Df Residuals:                      20   BIC:                             130.6\n",
            "Df Model:                           1                                         \n",
            "Covariance Type:            nonrobust                                         \n",
            "==============================================================================\n",
            "                 coef    std err          t      P>|t|      [0.025      0.975]\n",
            "------------------------------------------------------------------------------\n",
            "const         31.5118      2.045     15.405      0.000      27.245      35.779\n",
            "hp            -0.0756      0.013     -5.640      0.000      -0.104      -0.048\n",
            "==============================================================================\n",
            "Omnibus:                        2.768   Durbin-Watson:                   2.222\n",
            "Prob(Omnibus):                  0.251   Jarque-Bera (JB):                2.261\n",
            "Skew:                           0.755   Prob(JB):                        0.323\n",
            "Kurtosis:                       2.569   Cond. No.                         341.\n",
            "==============================================================================\n",
            "\n",
            "Warnings:\n",
            "[1] Standard Errors assume that the covariance matrix of the errors is correctly specified.\n"
          ],
          "name": "stdout"
        },
        {
          "output_type": "stream",
          "text": [
            "/usr/local/lib/python3.6/dist-packages/numpy/core/fromnumeric.py:2495: FutureWarning: Method .ptp is deprecated and will be removed in a future version. Use numpy.ptp instead.\n",
            "  return ptp(axis=axis, out=out, **kwargs)\n"
          ],
          "name": "stderr"
        }
      ]
    },
    {
      "cell_type": "code",
      "metadata": {
        "id": "11EOcBTi-yx1",
        "colab_type": "code",
        "colab": {
          "base_uri": "https://localhost:8080/",
          "height": 496
        },
        "outputId": "f4aa04d2-9ab4-480d-b9e2-3d0b3e3e40e3"
      },
      "source": [
        "## Model 4 with 'drat' variable\n",
        "X4 = train_data[\"drat\"]\n",
        "X4 = sm.add_constant(X4)\n",
        "model4 = sm.OLS(y, X4)\n",
        "model4_fit = model4.fit()\n",
        "print(model4_fit.summary())"
      ],
      "execution_count": 46,
      "outputs": [
        {
          "output_type": "stream",
          "text": [
            "                            OLS Regression Results                            \n",
            "==============================================================================\n",
            "Dep. Variable:                    mpg   R-squared:                       0.626\n",
            "Model:                            OLS   Adj. R-squared:                  0.607\n",
            "Method:                 Least Squares   F-statistic:                     33.47\n",
            "Date:                Mon, 24 Feb 2020   Prob (F-statistic):           1.16e-05\n",
            "Time:                        02:17:37   Log-Likelihood:                -61.880\n",
            "No. Observations:                  22   AIC:                             127.8\n",
            "Df Residuals:                      20   BIC:                             129.9\n",
            "Df Model:                           1                                         \n",
            "Covariance Type:            nonrobust                                         \n",
            "==============================================================================\n",
            "                 coef    std err          t      P>|t|      [0.025      0.975]\n",
            "------------------------------------------------------------------------------\n",
            "const        -13.9198      6.137     -2.268      0.035     -26.721      -1.119\n",
            "drat           9.6278      1.664      5.785      0.000       6.156      13.099\n",
            "==============================================================================\n",
            "Omnibus:                        1.491   Durbin-Watson:                   1.328\n",
            "Prob(Omnibus):                  0.475   Jarque-Bera (JB):                1.289\n",
            "Skew:                           0.453   Prob(JB):                        0.525\n",
            "Kurtosis:                       2.236   Cond. No.                         26.9\n",
            "==============================================================================\n",
            "\n",
            "Warnings:\n",
            "[1] Standard Errors assume that the covariance matrix of the errors is correctly specified.\n"
          ],
          "name": "stdout"
        },
        {
          "output_type": "stream",
          "text": [
            "/usr/local/lib/python3.6/dist-packages/numpy/core/fromnumeric.py:2495: FutureWarning: Method .ptp is deprecated and will be removed in a future version. Use numpy.ptp instead.\n",
            "  return ptp(axis=axis, out=out, **kwargs)\n"
          ],
          "name": "stderr"
        }
      ]
    },
    {
      "cell_type": "code",
      "metadata": {
        "id": "0xrht9iS_HEZ",
        "colab_type": "code",
        "colab": {
          "base_uri": "https://localhost:8080/",
          "height": 496
        },
        "outputId": "33d0250f-56ce-4681-b462-a1ef8cbef386"
      },
      "source": [
        "## Model 5 with 'wt' variable\n",
        "X5 = train_data[\"wt\"]\n",
        "X5 = sm.add_constant(X5)\n",
        "model5 = sm.OLS(y, X5)\n",
        "model5_fit = model5.fit()\n",
        "print(model5_fit.summary())"
      ],
      "execution_count": 47,
      "outputs": [
        {
          "output_type": "stream",
          "text": [
            "                            OLS Regression Results                            \n",
            "==============================================================================\n",
            "Dep. Variable:                    mpg   R-squared:                       0.811\n",
            "Model:                            OLS   Adj. R-squared:                  0.801\n",
            "Method:                 Least Squares   F-statistic:                     85.59\n",
            "Date:                Mon, 24 Feb 2020   Prob (F-statistic):           1.15e-08\n",
            "Time:                        02:18:51   Log-Likelihood:                -54.394\n",
            "No. Observations:                  22   AIC:                             112.8\n",
            "Df Residuals:                      20   BIC:                             115.0\n",
            "Df Model:                           1                                         \n",
            "Covariance Type:            nonrobust                                         \n",
            "==============================================================================\n",
            "                 coef    std err          t      P>|t|      [0.025      0.975]\n",
            "------------------------------------------------------------------------------\n",
            "const         38.0669      1.933     19.692      0.000      34.035      42.099\n",
            "wt            -5.3008      0.573     -9.252      0.000      -6.496      -4.106\n",
            "==============================================================================\n",
            "Omnibus:                        1.823   Durbin-Watson:                   1.430\n",
            "Prob(Omnibus):                  0.402   Jarque-Bera (JB):                1.494\n",
            "Skew:                           0.601   Prob(JB):                        0.474\n",
            "Kurtosis:                       2.573   Cond. No.                         11.0\n",
            "==============================================================================\n",
            "\n",
            "Warnings:\n",
            "[1] Standard Errors assume that the covariance matrix of the errors is correctly specified.\n"
          ],
          "name": "stdout"
        },
        {
          "output_type": "stream",
          "text": [
            "/usr/local/lib/python3.6/dist-packages/numpy/core/fromnumeric.py:2495: FutureWarning: Method .ptp is deprecated and will be removed in a future version. Use numpy.ptp instead.\n",
            "  return ptp(axis=axis, out=out, **kwargs)\n"
          ],
          "name": "stderr"
        }
      ]
    },
    {
      "cell_type": "code",
      "metadata": {
        "id": "1F4Acrrn_YMd",
        "colab_type": "code",
        "colab": {
          "base_uri": "https://localhost:8080/",
          "height": 496
        },
        "outputId": "8bb88242-bb0b-48f4-cb58-ff889414917a"
      },
      "source": [
        "## Model 6 with 'qsec' variable\n",
        "X6 = train_data[\"qsec\"]\n",
        "X6 = sm.add_constant(X6)\n",
        "model6 = sm.OLS(y, X6)\n",
        "model6_fit = model6.fit()\n",
        "print(model6_fit.summary())"
      ],
      "execution_count": 48,
      "outputs": [
        {
          "output_type": "stream",
          "text": [
            "                            OLS Regression Results                            \n",
            "==============================================================================\n",
            "Dep. Variable:                    mpg   R-squared:                       0.133\n",
            "Model:                            OLS   Adj. R-squared:                  0.090\n",
            "Method:                 Least Squares   F-statistic:                     3.080\n",
            "Date:                Mon, 24 Feb 2020   Prob (F-statistic):             0.0946\n",
            "Time:                        02:20:19   Log-Likelihood:                -71.121\n",
            "No. Observations:                  22   AIC:                             146.2\n",
            "Df Residuals:                      20   BIC:                             148.4\n",
            "Df Model:                           1                                         \n",
            "Covariance Type:            nonrobust                                         \n",
            "==============================================================================\n",
            "                 coef    std err          t      P>|t|      [0.025      0.975]\n",
            "------------------------------------------------------------------------------\n",
            "const         -5.7128     15.393     -0.371      0.714     -37.822      26.397\n",
            "qsec           1.4781      0.842      1.755      0.095      -0.279       3.235\n",
            "==============================================================================\n",
            "Omnibus:                        0.951   Durbin-Watson:                   2.268\n",
            "Prob(Omnibus):                  0.622   Jarque-Bera (JB):                0.887\n",
            "Skew:                           0.297   Prob(JB):                        0.642\n",
            "Kurtosis:                       2.216   Cond. No.                         206.\n",
            "==============================================================================\n",
            "\n",
            "Warnings:\n",
            "[1] Standard Errors assume that the covariance matrix of the errors is correctly specified.\n"
          ],
          "name": "stdout"
        },
        {
          "output_type": "stream",
          "text": [
            "/usr/local/lib/python3.6/dist-packages/numpy/core/fromnumeric.py:2495: FutureWarning: Method .ptp is deprecated and will be removed in a future version. Use numpy.ptp instead.\n",
            "  return ptp(axis=axis, out=out, **kwargs)\n"
          ],
          "name": "stderr"
        }
      ]
    },
    {
      "cell_type": "code",
      "metadata": {
        "id": "flOi2ctJ_t27",
        "colab_type": "code",
        "colab": {
          "base_uri": "https://localhost:8080/",
          "height": 496
        },
        "outputId": "5df4d8bd-8465-495e-8ce2-76845fd7f466"
      },
      "source": [
        "## Model 7 with 'vs' variable\n",
        "X7 = train_data[\"vs\"]\n",
        "X7 = sm.add_constant(X7)\n",
        "model7 = sm.OLS(y, X7)\n",
        "model7_fit = model7.fit()\n",
        "print(model7_fit.summary())"
      ],
      "execution_count": 49,
      "outputs": [
        {
          "output_type": "stream",
          "text": [
            "                            OLS Regression Results                            \n",
            "==============================================================================\n",
            "Dep. Variable:                    mpg   R-squared:                       0.471\n",
            "Model:                            OLS   Adj. R-squared:                  0.445\n",
            "Method:                 Least Squares   F-statistic:                     17.81\n",
            "Date:                Mon, 24 Feb 2020   Prob (F-statistic):           0.000420\n",
            "Time:                        02:21:33   Log-Likelihood:                -65.690\n",
            "No. Observations:                  22   AIC:                             135.4\n",
            "Df Residuals:                      20   BIC:                             137.6\n",
            "Df Model:                           1                                         \n",
            "Covariance Type:            nonrobust                                         \n",
            "==============================================================================\n",
            "                 coef    std err          t      P>|t|      [0.025      0.975]\n",
            "------------------------------------------------------------------------------\n",
            "const         16.6727      1.515     11.002      0.000      13.512      19.834\n",
            "vs             9.0455      2.143      4.221      0.000       4.575      13.516\n",
            "==============================================================================\n",
            "Omnibus:                        1.065   Durbin-Watson:                   2.057\n",
            "Prob(Omnibus):                  0.587   Jarque-Bera (JB):                0.886\n",
            "Skew:                           0.232   Prob(JB):                        0.642\n",
            "Kurtosis:                       2.133   Cond. No.                         2.62\n",
            "==============================================================================\n",
            "\n",
            "Warnings:\n",
            "[1] Standard Errors assume that the covariance matrix of the errors is correctly specified.\n"
          ],
          "name": "stdout"
        },
        {
          "output_type": "stream",
          "text": [
            "/usr/local/lib/python3.6/dist-packages/numpy/core/fromnumeric.py:2495: FutureWarning: Method .ptp is deprecated and will be removed in a future version. Use numpy.ptp instead.\n",
            "  return ptp(axis=axis, out=out, **kwargs)\n"
          ],
          "name": "stderr"
        }
      ]
    },
    {
      "cell_type": "code",
      "metadata": {
        "id": "K11uvcfbAAN-",
        "colab_type": "code",
        "colab": {
          "base_uri": "https://localhost:8080/",
          "height": 496
        },
        "outputId": "fadf2fe9-9e0d-4131-a55c-a473b0b1ef0e"
      },
      "source": [
        "## Model 8 with 'am' variable\n",
        "X8 = train_data[\"am\"]\n",
        "X8 = sm.add_constant(X8)\n",
        "model8 = sm.OLS(y, X8)\n",
        "model8_fit = model8.fit()\n",
        "print(model8_fit.summary())"
      ],
      "execution_count": 50,
      "outputs": [
        {
          "output_type": "stream",
          "text": [
            "                            OLS Regression Results                            \n",
            "==============================================================================\n",
            "Dep. Variable:                    mpg   R-squared:                       0.462\n",
            "Model:                            OLS   Adj. R-squared:                  0.435\n",
            "Method:                 Least Squares   F-statistic:                     17.17\n",
            "Date:                Mon, 24 Feb 2020   Prob (F-statistic):           0.000503\n",
            "Time:                        02:22:36   Log-Likelihood:                -65.880\n",
            "No. Observations:                  22   AIC:                             135.8\n",
            "Df Residuals:                      20   BIC:                             137.9\n",
            "Df Model:                           1                                         \n",
            "Covariance Type:            nonrobust                                         \n",
            "==============================================================================\n",
            "                 coef    std err          t      P>|t|      [0.025      0.975]\n",
            "------------------------------------------------------------------------------\n",
            "const         17.4692      1.406     12.424      0.000      14.536      20.402\n",
            "am             9.1085      2.198      4.143      0.001       4.523      13.694\n",
            "==============================================================================\n",
            "Omnibus:                        1.345   Durbin-Watson:                   1.644\n",
            "Prob(Omnibus):                  0.510   Jarque-Bera (JB):                1.046\n",
            "Skew:                          -0.508   Prob(JB):                        0.593\n",
            "Kurtosis:                       2.672   Cond. No.                         2.46\n",
            "==============================================================================\n",
            "\n",
            "Warnings:\n",
            "[1] Standard Errors assume that the covariance matrix of the errors is correctly specified.\n"
          ],
          "name": "stdout"
        },
        {
          "output_type": "stream",
          "text": [
            "/usr/local/lib/python3.6/dist-packages/numpy/core/fromnumeric.py:2495: FutureWarning: Method .ptp is deprecated and will be removed in a future version. Use numpy.ptp instead.\n",
            "  return ptp(axis=axis, out=out, **kwargs)\n"
          ],
          "name": "stderr"
        }
      ]
    },
    {
      "cell_type": "code",
      "metadata": {
        "id": "_ggHeNa2AOyB",
        "colab_type": "code",
        "colab": {
          "base_uri": "https://localhost:8080/",
          "height": 496
        },
        "outputId": "01118290-9d7c-413c-9f67-8517b200578e"
      },
      "source": [
        "## Model 9 with 'gear' variable\n",
        "X9 = train_data[\"gear\"]\n",
        "X9 = sm.add_constant(X9)\n",
        "model9 = sm.OLS(y, X9)\n",
        "model9_fit = model9.fit()\n",
        "print(model9_fit.summary())"
      ],
      "execution_count": 54,
      "outputs": [
        {
          "output_type": "stream",
          "text": [
            "                            OLS Regression Results                            \n",
            "==============================================================================\n",
            "Dep. Variable:                    mpg   R-squared:                       0.313\n",
            "Model:                            OLS   Adj. R-squared:                  0.279\n",
            "Method:                 Least Squares   F-statistic:                     9.116\n",
            "Date:                Mon, 24 Feb 2020   Prob (F-statistic):            0.00678\n",
            "Time:                        02:25:41   Log-Likelihood:                -68.566\n",
            "No. Observations:                  22   AIC:                             141.1\n",
            "Df Residuals:                      20   BIC:                             143.3\n",
            "Df Model:                           1                                         \n",
            "Covariance Type:            nonrobust                                         \n",
            "==============================================================================\n",
            "                 coef    std err          t      P>|t|      [0.025      0.975]\n",
            "------------------------------------------------------------------------------\n",
            "const          1.1728      6.743      0.174      0.864     -12.893      15.239\n",
            "gear           5.3719      1.779      3.019      0.007       1.661       9.083\n",
            "==============================================================================\n",
            "Omnibus:                        0.752   Durbin-Watson:                   1.667\n",
            "Prob(Omnibus):                  0.687   Jarque-Bera (JB):                0.057\n",
            "Skew:                          -0.016   Prob(JB):                        0.972\n",
            "Kurtosis:                       3.246   Cond. No.                         22.3\n",
            "==============================================================================\n",
            "\n",
            "Warnings:\n",
            "[1] Standard Errors assume that the covariance matrix of the errors is correctly specified.\n"
          ],
          "name": "stdout"
        },
        {
          "output_type": "stream",
          "text": [
            "/usr/local/lib/python3.6/dist-packages/numpy/core/fromnumeric.py:2495: FutureWarning: Method .ptp is deprecated and will be removed in a future version. Use numpy.ptp instead.\n",
            "  return ptp(axis=axis, out=out, **kwargs)\n"
          ],
          "name": "stderr"
        }
      ]
    },
    {
      "cell_type": "code",
      "metadata": {
        "id": "3UMk2bozAe6p",
        "colab_type": "code",
        "colab": {
          "base_uri": "https://localhost:8080/",
          "height": 496
        },
        "outputId": "ed13f736-8f13-4511-8b18-60ee2faf8ff2"
      },
      "source": [
        "## Model 10 with 'carb' variable\n",
        "X10 = train_data[\"carb\"]\n",
        "X10 = sm.add_constant(X10)\n",
        "model10 = sm.OLS(y, X10)\n",
        "model10_fit = model10.fit()\n",
        "print(model10_fit.summary())"
      ],
      "execution_count": 53,
      "outputs": [
        {
          "output_type": "stream",
          "text": [
            "                            OLS Regression Results                            \n",
            "==============================================================================\n",
            "Dep. Variable:                    mpg   R-squared:                       0.395\n",
            "Model:                            OLS   Adj. R-squared:                  0.365\n",
            "Method:                 Least Squares   F-statistic:                     13.05\n",
            "Date:                Mon, 24 Feb 2020   Prob (F-statistic):            0.00174\n",
            "Time:                        02:25:01   Log-Likelihood:                -67.172\n",
            "No. Observations:                  22   AIC:                             138.3\n",
            "Df Residuals:                      20   BIC:                             140.5\n",
            "Df Model:                           1                                         \n",
            "Covariance Type:            nonrobust                                         \n",
            "==============================================================================\n",
            "                 coef    std err          t      P>|t|      [0.025      0.975]\n",
            "------------------------------------------------------------------------------\n",
            "const         28.1078      2.231     12.601      0.000      23.455      32.761\n",
            "carb          -2.5775      0.714     -3.612      0.002      -4.066      -1.089\n",
            "==============================================================================\n",
            "Omnibus:                        3.398   Durbin-Watson:                   2.463\n",
            "Prob(Omnibus):                  0.183   Jarque-Bera (JB):                1.445\n",
            "Skew:                           0.201   Prob(JB):                        0.485\n",
            "Kurtosis:                       1.811   Cond. No.                         6.55\n",
            "==============================================================================\n",
            "\n",
            "Warnings:\n",
            "[1] Standard Errors assume that the covariance matrix of the errors is correctly specified.\n"
          ],
          "name": "stdout"
        },
        {
          "output_type": "stream",
          "text": [
            "/usr/local/lib/python3.6/dist-packages/numpy/core/fromnumeric.py:2495: FutureWarning: Method .ptp is deprecated and will be removed in a future version. Use numpy.ptp instead.\n",
            "  return ptp(axis=axis, out=out, **kwargs)\n"
          ],
          "name": "stderr"
        }
      ]
    },
    {
      "cell_type": "code",
      "metadata": {
        "id": "xnxj0b7wBk6f",
        "colab_type": "code",
        "colab": {}
      },
      "source": [
        "## Problem 5: Singel model with all 10 predictors."
      ],
      "execution_count": 0,
      "outputs": []
    },
    {
      "cell_type": "code",
      "metadata": {
        "id": "xM8_l9SXBsOH",
        "colab_type": "code",
        "colab": {
          "base_uri": "https://localhost:8080/",
          "height": 683
        },
        "outputId": "a86a2b48-1865-4aa1-9823-75e6fda3e727"
      },
      "source": [
        "## Model 11 with all ten variables\n",
        "X11 = train_data[{\"cyl\",\"disp\",\"hp\",\"drat\",\"wt\",\"qsec\",\"vs\",\"am\",\"gear\",\"carb\"}]\n",
        "X11 = sm.add_constant(X11)\n",
        "model11 = sm.OLS(y, X11)\n",
        "model11_fit = model11.fit()\n",
        "print(model11_fit.summary())"
      ],
      "execution_count": 55,
      "outputs": [
        {
          "output_type": "stream",
          "text": [
            "                            OLS Regression Results                            \n",
            "==============================================================================\n",
            "Dep. Variable:                    mpg   R-squared:                       0.910\n",
            "Model:                            OLS   Adj. R-squared:                  0.828\n",
            "Method:                 Least Squares   F-statistic:                     11.09\n",
            "Date:                Mon, 24 Feb 2020   Prob (F-statistic):           0.000215\n",
            "Time:                        02:34:27   Log-Likelihood:                -46.238\n",
            "No. Observations:                  22   AIC:                             114.5\n",
            "Df Residuals:                      11   BIC:                             126.5\n",
            "Df Model:                          10                                         \n",
            "Covariance Type:            nonrobust                                         \n",
            "==============================================================================\n",
            "                 coef    std err          t      P>|t|      [0.025      0.975]\n",
            "------------------------------------------------------------------------------\n",
            "const        -16.3157     29.274     -0.557      0.588     -80.747      48.116\n",
            "wt            -2.6024      2.664     -0.977      0.350      -8.465       3.261\n",
            "carb          -1.7822      1.482     -1.202      0.254      -5.045       1.480\n",
            "qsec           0.8257      0.888      0.929      0.373      -1.130       2.781\n",
            "disp           0.0115      0.024      0.472      0.646      -0.042       0.065\n",
            "cyl            1.4630      1.564      0.936      0.370      -1.979       4.905\n",
            "gear           2.8623      2.411      1.187      0.260      -2.444       8.169\n",
            "drat           3.2448      3.010      1.078      0.304      -3.379       9.869\n",
            "hp            -0.0052      0.033     -0.157      0.878      -0.078       0.067\n",
            "vs             2.3472      2.672      0.879      0.398      -3.533       8.228\n",
            "am             3.4100      2.589      1.317      0.215      -2.289       9.109\n",
            "==============================================================================\n",
            "Omnibus:                        0.139   Durbin-Watson:                   1.983\n",
            "Prob(Omnibus):                  0.933   Jarque-Bera (JB):                0.029\n",
            "Skew:                          -0.031   Prob(JB):                        0.985\n",
            "Kurtosis:                       2.833   Cond. No.                     1.46e+04\n",
            "==============================================================================\n",
            "\n",
            "Warnings:\n",
            "[1] Standard Errors assume that the covariance matrix of the errors is correctly specified.\n",
            "[2] The condition number is large, 1.46e+04. This might indicate that there are\n",
            "strong multicollinearity or other numerical problems.\n"
          ],
          "name": "stdout"
        },
        {
          "output_type": "stream",
          "text": [
            "/usr/local/lib/python3.6/dist-packages/numpy/core/fromnumeric.py:2495: FutureWarning: Method .ptp is deprecated and will be removed in a future version. Use numpy.ptp instead.\n",
            "  return ptp(axis=axis, out=out, **kwargs)\n"
          ],
          "name": "stderr"
        }
      ]
    }
  ]
}